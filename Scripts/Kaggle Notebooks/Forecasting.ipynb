{
 "metadata": {
  "language_info": {
   "codemirror_mode": {
    "name": "ipython",
    "version": 3
   },
   "file_extension": ".py",
   "mimetype": "text/x-python",
   "name": "python",
   "nbconvert_exporter": "python",
   "pygments_lexer": "ipython3",
   "version": "3.8.3-final"
  },
  "orig_nbformat": 2,
  "kernelspec": {
   "name": "python3",
   "display_name": "Python 3.8.3 64-bit ('base': conda)",
   "metadata": {
    "interpreter": {
     "hash": "d698636e78871910c1c7d94e3553c62ff936ca564a742ac62f445af3d8488fb7"
    }
   }
  }
 },
 "nbformat": 4,
 "nbformat_minor": 2,
 "cells": [
  {
   "cell_type": "code",
   "execution_count": 5,
   "metadata": {},
   "outputs": [],
   "source": [
    "#Importing libraries\n",
    "import pandas as pd\n",
    "import numpy as np\n",
    "import os\n",
    "import plotly.express as px\n",
    "from sklearn.cluster import KMeans\n",
    "from sklearn.ensemble import RandomForestRegressor, GradientBoostingRegressor\n",
    "from sklearn.metrics import mean_absolute_error, mean_squared_error, r2_score, mean_absolute_percentage_error\n",
    "from sklearn.preprocessing import StandardScaler\n",
    "import xgboost\n",
    "import warnings\n",
    "warnings.filterwarnings('ignore')"
   ]
  },
  {
   "cell_type": "code",
   "execution_count": 61,
   "metadata": {},
   "outputs": [],
   "source": [
    "#Importing User Defined modules\n",
    "os.chdir(r'//Users//mac_air//Documents//Documents//Side Projects//Kaggle_Anomaly_Detection//Scripts//')\n",
    "import ads_creation as ads_crtn\n",
    "import eda_analysis as eda\n",
    "import feature_engg as feat_engg\n",
    "import winsorize as wz\n",
    "import regression as regr\n",
    "import clustering as clst\n",
    "from constants import ATTR, OUTLIER_METHOD, TIME_INVARIANT_ATTR, TIME_VARIANT_ATTR, SPLIT_PCT, IDENTIFIERS"
   ]
  },
  {
   "source": [
    "<h1> Helper Functions </h1>"
   ],
   "cell_type": "markdown",
   "metadata": {}
  },
  {
   "cell_type": "code",
   "execution_count": 7,
   "metadata": {},
   "outputs": [],
   "source": [
    "#Funciton to create list of timestamps from first to last\n",
    "def create_ts_list(df,date_col):\n",
    "    '''\n",
    "    This function creates the list of timestamps from first ts to last ts\n",
    "\n",
    "    Input:\n",
    "    1. df: pandas dataframe, this is the ads subsetted for one panel\n",
    "    2. date_col: str, this is the name of the column containing the dates\n",
    "\n",
    "    Return\n",
    "    1. dates: pandas dataframe, containing all the timestamps from start to end\n",
    "    '''\n",
    "    dates = pd.date_range(start=df[date_col].min(), end = df[date_col].max(),freq = '15min')\n",
    "    dates = dates.to_frame(index=False)\n",
    "    dates = dates.rename(columns = {0:'DATE'})\n",
    "    return dates\n"
   ]
  },
  {
   "cell_type": "code",
   "execution_count": 8,
   "metadata": {},
   "outputs": [],
   "source": [
    "#Function to merge in the missing dates in the ADS\n",
    "def complt_ts(df,date_col):\n",
    "    '''\n",
    "    This function introduces the missing time stamps in ads\n",
    "\n",
    "    Input:\n",
    "    1. df: pandas dataframe, this is the ads subsetted for one panel\n",
    "    2. date_col: str, this is the name of the column containing the dates\n",
    "\n",
    "    Return\n",
    "    1. df: pandas dataframe, containing all the timestamps from start to end\n",
    "    '''\n",
    "    date_list = create_ts_list(df,date_col)\n",
    "    df = pd.merge(left=date_list,right=df,how='left', on='DATE')\n",
    "    return df\n"
   ]
  },
  {
   "cell_type": "code",
   "execution_count": 9,
   "metadata": {},
   "outputs": [],
   "source": [
    "#Performing data completions at a panel level\n",
    "def complt_ts_panel_lvl(df,panel_id_col,date_col):\n",
    "    '''\n",
    "    This function completes the time stamps for all panels and applies MVT as well\n",
    "\n",
    "    Input:\n",
    "    1. df: pandas dataframe, this is the ads for which timestamps need to be completed\n",
    "    2. panel_id_col: str, the name of the column containing the panel IDs\n",
    "    3. date_col, str, the name of the column containing the dates\n",
    "\n",
    "    Returns\n",
    "    1. df: pandas dataframe, containing all the timestamps from start to end\n",
    "    '''\n",
    "    df = df.groupby(panel_id_col).apply(lambda x: complt_ts(x, date_col))\n",
    "    df = df.reset_index(drop=True)\n",
    "    df['TIME_OF_DAY'] = df['DATE'].apply(lambda x: 1 if x.hour in range(6,18) else 0)\n",
    "    #if we dont do this ffill here then the all the obs for inverter ids won't reach\n",
    "    df[panel_id_col] = df[panel_id_col].ffill()\n",
    "    df = df.groupby(panel_id_col).apply(lambda x: ads_crtn.missing_value_treatment(x))\n",
    "    return df\n"
   ]
  },
  {
   "cell_type": "code",
   "execution_count": 10,
   "metadata": {},
   "outputs": [],
   "source": [
    "#Function to try different lags, starting from 2 days out till 2 hours and check the accuracy\n",
    "def get_optimal_lag(train_df,init_lag,pass_threshold,mode,panel_id_col,model_obj,feature_selection=False):\n",
    "    '''\n",
    "    This function gets the lag that is most optimal in predicting the target variable\n",
    "    Either in isolated mode or cumulative mode\n",
    "\n",
    "    Input:\n",
    "    1. train_df: pandas dataframe, this is the ads\n",
    "    2. init_lag: int, the largest lag to begin with\n",
    "    3. pass_threshold: float, the minimum r-squared values required\n",
    "    4. mode: str, isolated or cumulative mode\n",
    "    - Isolated mode: just creates one set of lags and check in silo\n",
    "    - Cumulative mode: creates a group of lags like 2 day and 1 day lagged variables and checks accuracy together\n",
    "\n",
    "    Return:\n",
    "    1. model_dict: python dictionary, this dict contains model objects for each panel\n",
    "    2. metric_dict: python dictionary, this dict contains error metrics for each panel\n",
    "    '''\n",
    "\n",
    "    #Creating a validation df because here we will be choosing the optimal lag\n",
    "    #this is a form of tuning and test dataset should not be used\n",
    "    train_df,validation_df = eda.train_test_split(train_df,'INVERTER_ID',0.9)\n",
    "    r2 = 0\n",
    "    lag = init_lag\n",
    "    lag_list = [init_lag]\n",
    "\n",
    "    #while loop runs till the time the condition is true\n",
    "    #here we want the loop to stop as soon as one condition is met and the condition to become false\n",
    "    #if we do or between the two conditions, while loop will still keep running because 0 + 1 = 1 and it will keep running\n",
    "    #but if we put 'and' then 0 * 1 = 0 and we get the desired result\n",
    "    while (r2 < pass_threshold) and (lag > 0):\n",
    "        print('Doing for lag: ',lag)\n",
    "        train_df_lagged = feat_engg.create_lagged_features(train_df,TIME_VARIANT_ATTR,lag_list,'INVERTER_ID','DATE')\n",
    "        validation_df_lagged = feat_engg.create_lagged_features(validation_df,TIME_VARIANT_ATTR,lag_list,'INVERTER_ID','DATE')\n",
    "\n",
    "        features = [feature for feature in train_df_lagged.columns if '_lag_' in feature]\n",
    "        features = features + TIME_INVARIANT_ATTR\n",
    "        \n",
    "        if feature_selection == True:\n",
    "            features = feat_engg.rfe_feature_selection(train_df_lagged,\n",
    "                                                RandomForestRegressor(random_state=42),\n",
    "                                                features,'PER_TS_YIELD')\n",
    "\n",
    "        models,metrics = regr.panel_wise_model(train_df_lagged,validation_df_lagged,panel_id_col,'PER_TS_YIELD',\n",
    "                                              model_obj,features=features)\n",
    "        r2 = metrics[train_df_lagged[panel_id_col].unique()[0]][3]\n",
    "        print(r2)\n",
    "\n",
    "        if mode == 'isolated':\n",
    "            lag -= 8\n",
    "            lag_list = [lag]\n",
    "        elif mode == 'cumulative':\n",
    "            lag -= 8\n",
    "            lag_list.append(lag)\n",
    "    return models,metrics\n"
   ]
  },
  {
   "cell_type": "code",
   "execution_count": 11,
   "metadata": {},
   "outputs": [],
   "source": [
    "#Perseverence model\n",
    "def fwd_step_rf_model(train_df,test_df,model_dict,panel_name):\n",
    "    '''\n",
    "    This function implements a perseverence model i.e. predicts 15 min in advance then uses that prediction \n",
    "    to churn out one more prediction\n",
    "\n",
    "    Input\n",
    "    1. train_df: pandas dataframe, training dataset\n",
    "    2. test_df: pandas dataframe, testing dataset\n",
    "    3. model_dict: dictionary, dict containing the prediciton models\n",
    "    4. panel_name: str, string containing panel name for which the model will be run\n",
    "\n",
    "    Returns:\n",
    "    1. predicitions: list, which contains the predicitons made for 2 days\n",
    "    '''\n",
    "    predictions = []\n",
    "    scaler = StandardScaler()\n",
    "    scaler.fit(train_df.values.reshape(-1,1))\n",
    "    train_df_scaled = scaler.transform(train_df.values.reshape(-1,1))\n",
    "    pred_obs = train_df_scaled[-1]\n",
    "    \n",
    "    for iter in range(len(test_df)):\n",
    "        if iter == 0:\n",
    "            pred_obs = model_dict[panel_name].predict(pred_obs.reshape(-1,1))\n",
    "            predictions.append(pred_obs)\n",
    "        else:\n",
    "            pred_obs = model_dict[panel_name].predict(scaler.transform(pred_obs.reshape(-1,1)))\n",
    "            predictions.append(pred_obs)\n",
    "\n",
    "    return predictions\n"
   ]
  },
  {
   "cell_type": "code",
   "execution_count": 12,
   "metadata": {},
   "outputs": [],
   "source": [
    "#Acutals vs Forecast\n",
    "def act_vs_fcst(y_true,y_pred,date_series):\n",
    "    '''\n",
    "    This function plots actuals vs forecasts\n",
    "\n",
    "    Input\n",
    "    1. y_true: pandas series, ground truth\n",
    "    2. y_pred: pandas series, predictions\n",
    "    3. date_series: pandas series, series with the dates\n",
    "    '''\n",
    "    actual_df = pd.DataFrame({'DATE':date_series, 'Panel':'Actual',\n",
    "                        'Actual':y_true})\n",
    "    pred_df = pd.DataFrame({'DATE':date_series, 'Panel':'Predicted',\n",
    "                        'Predicted':y_pred})\n",
    "\n",
    "    plot_df = pd.concat([actual_df,pred_df])\n",
    "    fig = px.line(plot_df,'DATE',['Actual','Predicted'])\n",
    "    fig.show(\"svg\")\n",
    "\n",
    "    return\n"
   ]
  },
  {
   "cell_type": "code",
   "execution_count": 13,
   "metadata": {},
   "outputs": [],
   "source": [
    "#Function for cleaning data\n",
    "def remove_anomaly(df):\n",
    "    '''\n",
    "    This function removes instances wherein we have irradiation but AC power is 0\n",
    "\n",
    "    Input:\n",
    "    1. df: pandas dataframe, dataset containing noise\n",
    "\n",
    "    Returns:\n",
    "    df: pandas dataframe, dataset that is clean\n",
    "    '''\n",
    "    anam_idx = df.index[(df['IRRADIATION'] != 0) & (df['AC_POWER'] == 0)]\n",
    "    df = df.drop(anam_idx)\n",
    "    return df\n"
   ]
  },
  {
   "source": [
    "<h1> Common steps for all Experiments </h1>"
   ],
   "cell_type": "markdown",
   "metadata": {}
  },
  {
   "cell_type": "code",
   "execution_count": 15,
   "metadata": {},
   "outputs": [],
   "source": [
    "#ADS creation, train-test split, outlier treatment\n",
    "ads = ads_crtn.create_ads()\n",
    "train_ads, test_ads = eda.train_test_split(ads,'INVERTER_ID',SPLIT_PCT)\n",
    "\n",
    "#leaving out total yield since it value since it value increase exponentially and rightly so\n",
    "outlier_feature = [feature for feature in ATTR if feature != 'TOTAL_YIELD'] \n",
    "clip_model = wz.winsorize(OUTLIER_METHOD)\n",
    "clip_model.fit(train_ads[outlier_feature],'INVERTER_ID')\n",
    "train_ads[outlier_feature] = clip_model.transform(train_ads[outlier_feature])\n",
    "test_ads[outlier_feature] = clip_model.transform(test_ads[outlier_feature])\n"
   ]
  },
  {
   "source": [
    "<h1> Experiment 1 </h1>"
   ],
   "cell_type": "markdown",
   "metadata": {}
  },
  {
   "source": [
    "<h2> In this experiment, We will create lagged versions of all our features, wherein all the features would be lagged be 2 days. This way we can use the observations from today and predict 2 days in advance </h2>"
   ],
   "cell_type": "markdown",
   "metadata": {}
  },
  {
   "cell_type": "code",
   "execution_count": 19,
   "metadata": {},
   "outputs": [
    {
     "output_type": "stream",
     "name": "stdout",
     "text": [
      "Modelling for panel: 1BY6WEcLGh8j5v7\n",
      "Modelling for panel: 1IF53ai7Xc0U56Y\n",
      "Modelling for panel: 3PZuoBAID5Wc2HD\n",
      "Modelling for panel: 4UPUqMRk7TRMgml\n",
      "Modelling for panel: 7JYdWkrLSPkdwr4\n",
      "Modelling for panel: 81aHJ1q11NBPMrL\n",
      "Modelling for panel: 9kRcWv60rDACzjR\n",
      "Modelling for panel: Et9kgGMDl729KT4\n",
      "Modelling for panel: IQ2d7wF4YD8zU1Q\n",
      "Modelling for panel: LYwnQax7tkwH5Cb\n",
      "Modelling for panel: LlT2YUhhzqhg5Sw\n",
      "Modelling for panel: McdE0feGgRqW7Ca\n",
      "Modelling for panel: Mx2yZCDsyf6DPfv\n",
      "Modelling for panel: NgDl19wMapZy17u\n",
      "Modelling for panel: PeE6FRyGXUgsRhN\n",
      "Modelling for panel: Qf4GUc1pJu5T6c6\n",
      "Modelling for panel: Quc1TzYxW2pYoWX\n",
      "Modelling for panel: V94E5Ben1TlhnDV\n",
      "Modelling for panel: VHMLBKoKgIrUVDU\n",
      "Modelling for panel: WRmjgnKYAwPKWDb\n",
      "Modelling for panel: WcxssY2VbP4hApt\n",
      "Modelling for panel: YxYtjZvoooNbGkE\n",
      "Modelling for panel: ZnxXDlPa8U1GXgE\n",
      "Modelling for panel: ZoEaEvLYb1n2sOq\n",
      "Modelling for panel: adLQvlD726eNBSB\n",
      "Modelling for panel: bvBOhCH3iADSZry\n",
      "Modelling for panel: iCRJl6heRkivqQ3\n",
      "Modelling for panel: ih0vzX44oOqAx2f\n",
      "Modelling for panel: mqwcsP2rE7J0TFp\n",
      "Modelling for panel: oZ35aAeoifZaQzV\n",
      "Modelling for panel: oZZkBaNadn6DNKz\n",
      "Modelling for panel: pkci93gMrogZuBj\n",
      "Modelling for panel: q49J1IKaHRwDQnt\n",
      "Modelling for panel: rGa61gmuvPhdLxV\n",
      "Modelling for panel: rrq4fwE8jgrTyWY\n",
      "Modelling for panel: sjndEbLyjtCKgGv\n",
      "Modelling for panel: uHbuxQJl8lW7ozc\n",
      "Modelling for panel: vOuJvMaM2sgwLmb\n",
      "Modelling for panel: wCURE6d3bPkepu2\n",
      "Modelling for panel: xMbIugepa2P7lBB\n",
      "Modelling for panel: xoJJ8DcxJEcupym\n",
      "Modelling for panel: z9Y9gH1T5YWrNuG\n",
      "Modelling for panel: zBIq5rxdHJRwDNY\n",
      "Modelling for panel: zVJPv84UY57bAof\n",
      "[('4UPUqMRk7TRMgml', 0.18615622033079304), ('81aHJ1q11NBPMrL', 0.7930439867962669), ('9kRcWv60rDACzjR', 0.6205958128387254), ('Et9kgGMDl729KT4', 0.480569266336328), ('LYwnQax7tkwH5Cb', 0.5939159619245407), ('LlT2YUhhzqhg5Sw', 0.5841916227745865), ('Mx2yZCDsyf6DPfv', 0.13694936877832853), ('PeE6FRyGXUgsRhN', 0.6016946758173942), ('Qf4GUc1pJu5T6c6', -0.29813500936784676), ('Quc1TzYxW2pYoWX', 0.5206987291483265), ('V94E5Ben1TlhnDV', 0.3346001571770256), ('WcxssY2VbP4hApt', 0.7732166533007416), ('mqwcsP2rE7J0TFp', 0.7290005038267668), ('oZ35aAeoifZaQzV', 0.07134908659976591), ('oZZkBaNadn6DNKz', 0.3805594323524334), ('q49J1IKaHRwDQnt', 0.3842782380049796), ('rrq4fwE8jgrTyWY', 0.5423185618847393), ('vOuJvMaM2sgwLmb', 0.7949081763686915), ('xMbIugepa2P7lBB', 0.7878510711640968), ('xoJJ8DcxJEcupym', 0.6730737196315002)]\n"
     ]
    }
   ],
   "source": [
    "#Completing timestamps, so that each panel has all the timestamps from start to finish\n",
    "train_ads_exp = complt_ts_panel_lvl(train_ads,'INVERTER_ID','DATE')\n",
    "test_ads_exp = complt_ts_panel_lvl(test_ads,'INVERTER_ID','DATE')\n",
    "\n",
    "#making ADS stationary\n",
    "non_stnry_invtr_list = eda.return_non_stnry_invtr_list(train_ads_exp,'INVERTER_ID')\n",
    "train_ads = eda.make_ads_stnry(train_ads_exp,non_stnry_invtr_list,'INVERTER_ID','DATE')\n",
    "\n",
    "non_stnry_invtr_list = eda.return_non_stnry_invtr_list(test_ads_exp,'INVERTER_ID')\n",
    "test_ads = eda.make_ads_stnry(test_ads_exp,non_stnry_invtr_list,'INVERTER_ID','DATE')\n",
    "\n",
    "#Creating lagged features which are lagged by exactly 2 days so that they can then be used for prediction\n",
    "\n",
    "train_ads_exp = feat_engg.create_lagged_features(train_ads_exp,TIME_VARIANT_ATTR,[192],'INVERTER_ID','DATE')\n",
    "test_ads_exp = feat_engg.create_lagged_features(test_ads_exp, TIME_VARIANT_ATTR, [192], 'INVERTER_ID','DATE')\n",
    "\n",
    "features = [feature + '_lag_192' for feature in TIME_VARIANT_ATTR]\n",
    "features = features + TIME_INVARIANT_ATTR\n",
    "\n",
    "models,metrics = regr.panel_wise_model(train_ads_exp,test_ads_exp,\n",
    "                                        'INVERTER_ID','PER_TS_YIELD',\n",
    "                                        RandomForestRegressor(random_state=42),\n",
    "                                        features=features)\n",
    "\n",
    "\n",
    "low_acc_invtr = [(key,metrics[key][3]) for key in metrics.keys() if metrics[key][3] < 0.8]\n",
    "invtr_list = [val_pair[0] for val_pair in low_acc_invtr]\n",
    "print(low_acc_invtr)\n"
   ]
  },
  {
   "source": [
    "<h3> From the above experiment we saw that we are having a lot of trouble predicting for the plant 4136001 </h3>"
   ],
   "cell_type": "markdown",
   "metadata": {}
  },
  {
   "source": [
    "<h1> Experiment 2 </h1>"
   ],
   "cell_type": "markdown",
   "metadata": {}
  },
  {
   "source": [
    "<h2> Performing rfecv based on RF on the panels that gave poor accuracy in the previous step. So, that the significant variables may increase the accuracy </h2>"
   ],
   "cell_type": "markdown",
   "metadata": {}
  },
  {
   "cell_type": "code",
   "execution_count": 26,
   "metadata": {},
   "outputs": [
    {
     "output_type": "stream",
     "name": "stdout",
     "text": [
      "Modelling for panel: 4UPUqMRk7TRMgml\n",
      "Added metric for : 4UPUqMRk7TRMgml\n",
      "Modelling for panel: 81aHJ1q11NBPMrL\n",
      "Added metric for : 81aHJ1q11NBPMrL\n"
     ]
    }
   ],
   "source": [
    "metrics_rfe = {}\n",
    "for invertor in invtr_list[0:2]:\n",
    "    feat_set = feat_engg.rfe_feature_selection(train_ads_exp.loc[train_ads_exp['INVERTER_ID']==invertor,],\n",
    "                                                RandomForestRegressor(random_state=42),\n",
    "                                                features,'PER_TS_YIELD')\n",
    "    \n",
    "    models,metrics = regr.panel_wise_model(train_ads_exp.loc[train_ads_exp['INVERTER_ID']==invertor,],\n",
    "                                            test_ads_exp.loc[test_ads_exp['INVERTER_ID']==invertor,],\n",
    "                                            'INVERTER_ID',\n",
    "                                            'PER_TS_YIELD',\n",
    "                                            RandomForestRegressor(random_state=42),\n",
    "                                            features=feat_set)\n",
    "    print('Added metric for :',invertor)\n",
    "    metrics_rfe[invertor] = metrics[invertor]"
   ]
  },
  {
   "source": [
    "<h2> Performed this experiment on only 2 panels, for faster execution. Got very poor accuracy with rfecv as well </h2>"
   ],
   "cell_type": "markdown",
   "metadata": {}
  },
  {
   "cell_type": "code",
   "execution_count": 27,
   "metadata": {},
   "outputs": [
    {
     "output_type": "stream",
     "name": "stdout",
     "text": [
      "{'4UPUqMRk7TRMgml': (4.326853129624277e+16, 37.53757785149787, 4943.14573812595, 0.17794791444964098), '81aHJ1q11NBPMrL': (7572704869083764.0, 19.43481130301415, 1373.9470594817508, 0.7900208030075239)}\n"
     ]
    }
   ],
   "source": [
    "print(metrics_rfe)"
   ]
  },
  {
   "source": [
    "<h1> Experiment 3 </h1>"
   ],
   "cell_type": "markdown",
   "metadata": {}
  },
  {
   "source": [
    "<h2> Finding the most optimal lag starting from 2 days to 15 min. To further use in perseverence model </h2>"
   ],
   "cell_type": "markdown",
   "metadata": {}
  },
  {
   "cell_type": "code",
   "execution_count": 33,
   "metadata": {},
   "outputs": [
    {
     "output_type": "stream",
     "name": "stdout",
     "text": [
      "Doing for lag:  192\n",
      "Modelling for panel: 81aHJ1q11NBPMrL\n",
      "0.5403374834985144\n",
      "Doing for lag:  184\n",
      "Modelling for panel: 81aHJ1q11NBPMrL\n",
      "0.5573963338307616\n",
      "Doing for lag:  176\n",
      "Modelling for panel: 81aHJ1q11NBPMrL\n",
      "0.5348747537337651\n",
      "Doing for lag:  168\n",
      "Modelling for panel: 81aHJ1q11NBPMrL\n",
      "0.6013769807535917\n",
      "Doing for lag:  160\n",
      "Modelling for panel: 81aHJ1q11NBPMrL\n",
      "0.7104338049132781\n",
      "Doing for lag:  152\n",
      "Modelling for panel: 81aHJ1q11NBPMrL\n",
      "0.614042967113398\n",
      "Doing for lag:  144\n",
      "Modelling for panel: 81aHJ1q11NBPMrL\n",
      "0.6627574786524694\n",
      "Doing for lag:  136\n",
      "Modelling for panel: 81aHJ1q11NBPMrL\n",
      "0.6606524107354759\n",
      "Doing for lag:  128\n",
      "Modelling for panel: 81aHJ1q11NBPMrL\n",
      "0.6444101939834361\n",
      "Doing for lag:  120\n",
      "Modelling for panel: 81aHJ1q11NBPMrL\n",
      "0.6410439520929543\n",
      "Doing for lag:  112\n",
      "Modelling for panel: 81aHJ1q11NBPMrL\n",
      "0.7285484694291637\n",
      "Doing for lag:  104\n",
      "Modelling for panel: 81aHJ1q11NBPMrL\n",
      "0.7624680070227596\n",
      "Doing for lag:  96\n",
      "Modelling for panel: 81aHJ1q11NBPMrL\n",
      "0.6468233173819998\n",
      "Doing for lag:  88\n",
      "Modelling for panel: 81aHJ1q11NBPMrL\n",
      "0.584289663631969\n",
      "Doing for lag:  80\n",
      "Modelling for panel: 81aHJ1q11NBPMrL\n",
      "0.6600419959772867\n",
      "Doing for lag:  72\n",
      "Modelling for panel: 81aHJ1q11NBPMrL\n",
      "0.5196308985960403\n",
      "Doing for lag:  64\n",
      "Modelling for panel: 81aHJ1q11NBPMrL\n",
      "0.38322689307683455\n",
      "Doing for lag:  56\n",
      "Modelling for panel: 81aHJ1q11NBPMrL\n",
      "0.40235649956805564\n",
      "Doing for lag:  48\n",
      "Modelling for panel: 81aHJ1q11NBPMrL\n",
      "0.48117982942640514\n",
      "Doing for lag:  40\n",
      "Modelling for panel: 81aHJ1q11NBPMrL\n",
      "0.5077567421526421\n",
      "Doing for lag:  32\n",
      "Modelling for panel: 81aHJ1q11NBPMrL\n",
      "0.5285405044596754\n",
      "Doing for lag:  24\n",
      "Modelling for panel: 81aHJ1q11NBPMrL\n",
      "0.5091282573572242\n",
      "Doing for lag:  16\n",
      "Modelling for panel: 81aHJ1q11NBPMrL\n",
      "0.5217450181163674\n",
      "Doing for lag:  8\n",
      "Modelling for panel: 81aHJ1q11NBPMrL\n",
      "0.5944348223167333\n"
     ]
    }
   ],
   "source": [
    "#Finding the lag which gives the best accuracy, starting from 2 days out and moving closer to t-1\n",
    "#All the different lags are looked at in isolation or cumulatively\n",
    "#conducting this experiment with only one panel, if successful only then will scale up to other panels\n",
    "\n",
    "trial_df = train_ads.loc[train_ads['INVERTER_ID']==invtr_list[1],]\n",
    "\n",
    "#running it in isolated mode first\n",
    "try_model,try_metric = get_optimal_lag(trial_df,192,0.8,'isolated',\n",
    "                                        'INVERTER_ID',\n",
    "                                        RandomForestRegressor(random_state=42),False)\n",
    "\n",
    "#running the pipeline in cumulative mode\n",
    "#better performance as compared to before but still did not cross 80% on validation dataset\n",
    "\n",
    "#Commenting the below piece of code, since it takes a lot of time on local system\n",
    "#try_model,try_metric = get_optimal_lag(trial_df,192,0.8,'cumulative')\n"
   ]
  },
  {
   "source": [
    "<h2> Did not receive good results with this as well, no lag was able to give more than 80% accuracy </h2>"
   ],
   "cell_type": "markdown",
   "metadata": {}
  },
  {
   "source": [
    "<h1> Experiment 4 </h1>"
   ],
   "cell_type": "markdown",
   "metadata": {}
  },
  {
   "source": [
    "<h2> Tried to get optimal lag with feature selection & ran the code on google colab. It took a lot of time and did not give favorable results </h2>"
   ],
   "cell_type": "markdown",
   "metadata": {}
  },
  {
   "source": [
    "<h1> Experiment 5 </h1>"
   ],
   "cell_type": "markdown",
   "metadata": {}
  },
  {
   "source": [
    "<h2>Perseverence model</h2>\n",
    "<h2>Forecast only 15 min in advance and use that forecast as input and forecast for another 15 min</h2>"
   ],
   "cell_type": "markdown",
   "metadata": {}
  },
  {
   "cell_type": "code",
   "execution_count": 40,
   "metadata": {},
   "outputs": [
    {
     "output_type": "stream",
     "name": "stdout",
     "text": [
      "Modelling for panel: 1BY6WEcLGh8j5v7\n",
      "Modelling for panel: 1IF53ai7Xc0U56Y\n",
      "Modelling for panel: 3PZuoBAID5Wc2HD\n",
      "Modelling for panel: 4UPUqMRk7TRMgml\n",
      "Modelling for panel: 7JYdWkrLSPkdwr4\n",
      "Modelling for panel: 81aHJ1q11NBPMrL\n",
      "Modelling for panel: 9kRcWv60rDACzjR\n",
      "Modelling for panel: Et9kgGMDl729KT4\n",
      "Modelling for panel: IQ2d7wF4YD8zU1Q\n",
      "Modelling for panel: LYwnQax7tkwH5Cb\n",
      "Modelling for panel: LlT2YUhhzqhg5Sw\n",
      "Modelling for panel: McdE0feGgRqW7Ca\n",
      "Modelling for panel: Mx2yZCDsyf6DPfv\n",
      "Modelling for panel: NgDl19wMapZy17u\n",
      "Modelling for panel: PeE6FRyGXUgsRhN\n",
      "Modelling for panel: Qf4GUc1pJu5T6c6\n",
      "Modelling for panel: Quc1TzYxW2pYoWX\n",
      "Modelling for panel: V94E5Ben1TlhnDV\n",
      "Modelling for panel: VHMLBKoKgIrUVDU\n",
      "Modelling for panel: WRmjgnKYAwPKWDb\n",
      "Modelling for panel: WcxssY2VbP4hApt\n",
      "Modelling for panel: YxYtjZvoooNbGkE\n",
      "Modelling for panel: ZnxXDlPa8U1GXgE\n",
      "Modelling for panel: ZoEaEvLYb1n2sOq\n",
      "Modelling for panel: adLQvlD726eNBSB\n",
      "Modelling for panel: bvBOhCH3iADSZry\n",
      "Modelling for panel: iCRJl6heRkivqQ3\n",
      "Modelling for panel: ih0vzX44oOqAx2f\n",
      "Modelling for panel: mqwcsP2rE7J0TFp\n",
      "Modelling for panel: oZ35aAeoifZaQzV\n",
      "Modelling for panel: oZZkBaNadn6DNKz\n",
      "Modelling for panel: pkci93gMrogZuBj\n",
      "Modelling for panel: q49J1IKaHRwDQnt\n",
      "Modelling for panel: rGa61gmuvPhdLxV\n",
      "Modelling for panel: rrq4fwE8jgrTyWY\n",
      "Modelling for panel: sjndEbLyjtCKgGv\n",
      "Modelling for panel: uHbuxQJl8lW7ozc\n",
      "Modelling for panel: vOuJvMaM2sgwLmb\n",
      "Modelling for panel: wCURE6d3bPkepu2\n",
      "Modelling for panel: xMbIugepa2P7lBB\n",
      "Modelling for panel: xoJJ8DcxJEcupym\n",
      "Modelling for panel: z9Y9gH1T5YWrNuG\n",
      "Modelling for panel: zBIq5rxdHJRwDNY\n",
      "Modelling for panel: zVJPv84UY57bAof\n",
      "Modelling for panel:  4UPUqMRk7TRMgml\n",
      "Modelling for panel:  81aHJ1q11NBPMrL\n",
      "Modelling for panel:  9kRcWv60rDACzjR\n",
      "Modelling for panel:  Et9kgGMDl729KT4\n",
      "Modelling for panel:  IQ2d7wF4YD8zU1Q\n",
      "Modelling for panel:  LYwnQax7tkwH5Cb\n",
      "Modelling for panel:  LlT2YUhhzqhg5Sw\n",
      "Modelling for panel:  Mx2yZCDsyf6DPfv\n",
      "Modelling for panel:  NgDl19wMapZy17u\n",
      "Modelling for panel:  PeE6FRyGXUgsRhN\n",
      "Modelling for panel:  Qf4GUc1pJu5T6c6\n",
      "Modelling for panel:  Quc1TzYxW2pYoWX\n",
      "Modelling for panel:  V94E5Ben1TlhnDV\n",
      "Modelling for panel:  WcxssY2VbP4hApt\n",
      "Modelling for panel:  mqwcsP2rE7J0TFp\n",
      "Modelling for panel:  oZ35aAeoifZaQzV\n",
      "Modelling for panel:  oZZkBaNadn6DNKz\n",
      "Modelling for panel:  q49J1IKaHRwDQnt\n",
      "Modelling for panel:  rrq4fwE8jgrTyWY\n",
      "Modelling for panel:  vOuJvMaM2sgwLmb\n",
      "Modelling for panel:  xMbIugepa2P7lBB\n",
      "Modelling for panel:  xoJJ8DcxJEcupym\n"
     ]
    }
   ],
   "source": [
    "#Creating lagged version of target variable \n",
    "train_ads_exp = feat_engg.create_lagged_features(train_ads,['PER_TS_YIELD'],[1],'INVERTER_ID','DATE')\n",
    "test_ads_exp = feat_engg.create_lagged_features(test_ads, ['PER_TS_YIELD'], [1], 'INVERTER_ID','DATE')\n",
    "\n",
    "features = [feature for feature in train_ads_exp.columns if '_lag_' in feature]\n",
    "\n",
    "models,metrics = regr.panel_wise_model(train_ads_exp,test_ads_exp,\n",
    "                                        'INVERTER_ID','PER_TS_YIELD',\n",
    "                                        RandomForestRegressor(random_state=42),features=features)\n",
    "\n",
    "low_acc_invtr = [(key,metrics[key][3]) for key in metrics.keys() if metrics[key][3] < 0.8]\n",
    "invtr_list = [val_pair[0] for val_pair in low_acc_invtr]\n",
    "\n",
    "#Persevernce Model\n",
    "fwd_models = {}\n",
    "for invtr in invtr_list:\n",
    "    print('Modelling for panel: ',invtr)\n",
    "    preds = fwd_step_rf_model(train_ads_exp.loc[train_ads_exp['INVERTER_ID'] == invtr,features],\n",
    "                            test_ads_exp.loc[test_ads_exp['INVERTER_ID'] == invtr,features],\n",
    "                            models,invtr)\n",
    "\n",
    "\n",
    "    y_pred = [prediction for sublist in preds for prediction in sublist]\n",
    "\n",
    "    r2 = r2_score(test_ads_exp.loc[test_ads_exp['INVERTER_ID'] == invtr,'PER_TS_YIELD'],y_pred)\n",
    "    fwd_models[invtr] = r2\n"
   ]
  },
  {
   "cell_type": "code",
   "execution_count": 42,
   "metadata": {},
   "outputs": [
    {
     "output_type": "stream",
     "name": "stdout",
     "text": [
      "-0.6633902466590609\n"
     ]
    }
   ],
   "source": [
    "print(fwd_models['4UPUqMRk7TRMgml'])"
   ]
  },
  {
   "source": [
    "<h2> Printed the accuracy for an example panel, like this panel most panels have negative r-squared. So this experiment also failed miserably </h2>"
   ],
   "cell_type": "markdown",
   "metadata": {}
  },
  {
   "source": [
    "<h1> Experiment 6</h1>"
   ],
   "cell_type": "markdown",
   "metadata": {}
  },
  {
   "source": [
    "<h2> Making a XGBoost model for all the panels that did not perform well in Experiment 1</h2>"
   ],
   "cell_type": "markdown",
   "metadata": {}
  },
  {
   "cell_type": "code",
   "execution_count": 46,
   "metadata": {},
   "outputs": [
    {
     "output_type": "stream",
     "name": "stdout",
     "text": [
      "Modelling for panel: 4UPUqMRk7TRMgml\n",
      "Modelling for panel: 81aHJ1q11NBPMrL\n",
      "Modelling for panel: 9kRcWv60rDACzjR\n",
      "Modelling for panel: Et9kgGMDl729KT4\n",
      "Modelling for panel: IQ2d7wF4YD8zU1Q\n",
      "Modelling for panel: LYwnQax7tkwH5Cb\n",
      "Modelling for panel: LlT2YUhhzqhg5Sw\n",
      "Modelling for panel: Mx2yZCDsyf6DPfv\n",
      "Modelling for panel: NgDl19wMapZy17u\n",
      "Modelling for panel: PeE6FRyGXUgsRhN\n",
      "Modelling for panel: Qf4GUc1pJu5T6c6\n",
      "Modelling for panel: Quc1TzYxW2pYoWX\n",
      "Modelling for panel: V94E5Ben1TlhnDV\n",
      "Modelling for panel: WcxssY2VbP4hApt\n",
      "Modelling for panel: mqwcsP2rE7J0TFp\n",
      "Modelling for panel: oZ35aAeoifZaQzV\n",
      "Modelling for panel: oZZkBaNadn6DNKz\n",
      "Modelling for panel: q49J1IKaHRwDQnt\n",
      "Modelling for panel: rrq4fwE8jgrTyWY\n",
      "Modelling for panel: vOuJvMaM2sgwLmb\n",
      "Modelling for panel: xMbIugepa2P7lBB\n",
      "Modelling for panel: xoJJ8DcxJEcupym\n"
     ]
    }
   ],
   "source": [
    "model = xgboost.XGBRegressor(random_state=42)\n",
    "\n",
    "train_ads_exp_xgb = train_ads_exp.loc[train_ads_exp['INVERTER_ID'].isin(invtr_list),]\n",
    "test_ads_exp_xgb = test_ads_exp.loc[test_ads_exp['INVERTER_ID'].isin(invtr_list),]\n",
    "models_xgb,metrics_xgb = regr.panel_wise_model(train_ads_exp_xgb,test_ads_exp_xgb,'INVERTER_ID','PER_TS_YIELD',model,features=features)\n",
    "\n",
    "low_acc_invtr = [(key,metrics_xgb[key][3]) for key in metrics_xgb.keys() if metrics_xgb[key][3] < 0.8]\n",
    "invtr_list = [val_pair[0] for val_pair in low_acc_invtr]"
   ]
  },
  {
   "cell_type": "code",
   "execution_count": 52,
   "metadata": {},
   "outputs": [
    {
     "output_type": "execute_result",
     "data": {
      "text/plain": [
       "[('4UPUqMRk7TRMgml', 0.6292445942538605),\n",
       " ('81aHJ1q11NBPMrL', 0.7868701922328022),\n",
       " ('9kRcWv60rDACzjR', 0.6881906758338177),\n",
       " ('Et9kgGMDl729KT4', 0.5481710064195193),\n",
       " ('IQ2d7wF4YD8zU1Q', 0.6802121843180808),\n",
       " ('LYwnQax7tkwH5Cb', 0.7466097151649751),\n",
       " ('LlT2YUhhzqhg5Sw', 0.6474269372899065),\n",
       " ('Mx2yZCDsyf6DPfv', 0.5481390048306423),\n",
       " ('NgDl19wMapZy17u', 0.6290449609232556),\n",
       " ('PeE6FRyGXUgsRhN', 0.6384321055522699),\n",
       " ('Qf4GUc1pJu5T6c6', 0.49948199898439416),\n",
       " ('Quc1TzYxW2pYoWX', 0.5631789140620491),\n",
       " ('V94E5Ben1TlhnDV', 0.5462637332850718),\n",
       " ('WcxssY2VbP4hApt', 0.6981603828109741),\n",
       " ('mqwcsP2rE7J0TFp', 0.5306353286007349),\n",
       " ('oZ35aAeoifZaQzV', 0.5208670652235265),\n",
       " ('oZZkBaNadn6DNKz', 0.6119874662936554),\n",
       " ('q49J1IKaHRwDQnt', 0.6294021671596782),\n",
       " ('rrq4fwE8jgrTyWY', 0.7049013348577101),\n",
       " ('vOuJvMaM2sgwLmb', 0.6530707958343396),\n",
       " ('xMbIugepa2P7lBB', 0.6017791973048432),\n",
       " ('xoJJ8DcxJEcupym', 0.7188121142529869)]"
      ]
     },
     "metadata": {},
     "execution_count": 52
    }
   ],
   "source": [
    "low_acc_invtr"
   ]
  },
  {
   "source": [
    "<h2> Even the above XGBoost regressor is not giving good accuracy </h2>"
   ],
   "cell_type": "markdown",
   "metadata": {}
  },
  {
   "source": [
    "<h1> Experiment 7 </h1>"
   ],
   "cell_type": "markdown",
   "metadata": {}
  },
  {
   "source": [
    "<h2> Making a model at a plant level, moving away from panel level models </h2>"
   ],
   "cell_type": "markdown",
   "metadata": {}
  },
  {
   "cell_type": "code",
   "execution_count": 56,
   "metadata": {},
   "outputs": [
    {
     "output_type": "stream",
     "name": "stdout",
     "text": [
      "Modelling for panel: 4135001.0\n",
      "Modelling for panel: 4136001.0\n"
     ]
    }
   ],
   "source": [
    "#Completing timestamps, so that each panel has all the timestamps from start to finish\n",
    "train_ads_exp = complt_ts_panel_lvl(train_ads,'INVERTER_ID','DATE')\n",
    "test_ads_exp = complt_ts_panel_lvl(test_ads,'INVERTER_ID','DATE')\n",
    "\n",
    "train_ads_exp = feat_engg.create_lagged_features(train_ads_exp,TIME_VARIANT_ATTR,[192],'INVERTER_ID','DATE')\n",
    "test_ads_exp = feat_engg.create_lagged_features(test_ads_exp, TIME_VARIANT_ATTR, [192], 'INVERTER_ID','DATE')\n",
    "\n",
    "features = [feature + '_lag_192' for feature in TIME_VARIANT_ATTR]\n",
    "features = features + TIME_INVARIANT_ATTR\n",
    "\n",
    "models,metrics = regr.panel_wise_model(train_ads_exp,test_ads_exp,\n",
    "                                        'PLANT_ID','PER_TS_YIELD',\n",
    "                                        RandomForestRegressor(random_state=42),\n",
    "                                        features=features)"
   ]
  },
  {
   "cell_type": "code",
   "execution_count": 57,
   "metadata": {},
   "outputs": [
    {
     "output_type": "stream",
     "name": "stdout",
     "text": [
      "{4135001.0: (2110184295403390.5, 9.528655815352526, 431.08177540851773, 0.9502300616253726), 4136001.0: (3.46672801548629e+16, 23.0250729005699, 2596.127669491405, 0.5676923389093932)}\n"
     ]
    }
   ],
   "source": [
    "print(metrics)"
   ]
  },
  {
   "source": [
    "<h2> Getting good accuracy for plant 1, but very low for plant 2 </h2>"
   ],
   "cell_type": "markdown",
   "metadata": {}
  },
  {
   "source": [
    "<h1> Experiment 8 </h1>"
   ],
   "cell_type": "markdown",
   "metadata": {}
  },
  {
   "source": [
    "<h2>Clustering within plant 4136001 and making a model for each cluster</h2>"
   ],
   "cell_type": "markdown",
   "metadata": {}
  },
  {
   "cell_type": "code",
   "execution_count": 63,
   "metadata": {},
   "outputs": [
    {
     "output_type": "stream",
     "name": "stdout",
     "text": [
      "Score for clusters # 2 is 0.9237337352666161\n",
      "Score for clusters # 3 is 0.9469246931954871\n",
      "Score for clusters # 4 is 0.9714336995109856\n",
      "Score for clusters # 5 is 0.9654832407059628\n",
      "Score for clusters # 6 is 0.9736857033951449\n",
      "Score for clusters # 7 is 0.9752411142358455\n",
      "Score for clusters # 8 is 0.9753780585879965\n",
      "Score for clusters # 9 is 0.9753360598735886\n",
      "Score for clusters # 10 is 0.9761359403841954\n"
     ]
    }
   ],
   "source": [
    "train_ads_clst = train_ads.loc[train_ads['PLANT_ID']==4136001.0].reset_index(drop=True)\n",
    "test_ads_clst = test_ads.loc[test_ads['PLANT_ID']==4136001.0].reset_index(drop=True)\n",
    "\n",
    "#running the below loop to give us the number of clusters that are optimal for this clustering exercise\n",
    "#10 clusters are coming out to be most optimal, so lets go ahead witthat\n",
    "\n",
    "n_clust = clst.get_n_clusters(train_ads_clst.loc[:,~train_ads_clst.columns.isin(IDENTIFIERS)],2,11)\n",
    "\n",
    "#kmeans clustering with 10 clusters\n",
    "clusterer = KMeans(n_clusters=n_clust, random_state=42)\n",
    "cluster_labels = clusterer.fit_predict(train_ads_clst.loc[:,~train_ads_clst.columns.isin(IDENTIFIERS)])\n",
    "\n",
    "train_ads_clst = pd.concat([pd.DataFrame({'CLUSTER_ID':list(cluster_labels)}),train_ads_clst],axis=1)\n",
    "\n",
    "#putting the cluster IDs in the test ads as well\n",
    "invtr_clst_map = train_ads_clst[['INVERTER_ID','CLUSTER_ID']].drop_duplicates().reset_index(drop=True)\n",
    "test_ads_clst = pd.merge(test_ads_clst,invtr_clst_map,on='INVERTER_ID',how='inner')\n",
    "\n"
   ]
  },
  {
   "cell_type": "code",
   "execution_count": 64,
   "metadata": {},
   "outputs": [
    {
     "output_type": "stream",
     "name": "stdout",
     "text": [
      "Modelling for panel: 0\n",
      "Modelling for panel: 6\n",
      "Modelling for panel: 4\n",
      "Modelling for panel: 5\n",
      "Modelling for panel: 8\n",
      "Modelling for panel: 9\n",
      "Modelling for panel: 2\n",
      "Modelling for panel: 7\n",
      "Modelling for panel: 3\n",
      "Modelling for panel: 1\n"
     ]
    }
   ],
   "source": [
    "#Making model for each cluster\n",
    "train_ads_clst = feat_engg.create_lagged_features(train_ads_clst,TIME_VARIANT_ATTR,[192],'INVERTER_ID','DATE')\n",
    "test_ads_clst = feat_engg.create_lagged_features(test_ads_clst, TIME_VARIANT_ATTR, [192], 'INVERTER_ID','DATE')\n",
    "\n",
    "features = [feature + '_lag_192' for feature in TIME_VARIANT_ATTR]\n",
    "features = features + TIME_INVARIANT_ATTR\n",
    "\n",
    "models,metrics = regr.panel_wise_model(train_ads_clst,test_ads_clst,\n",
    "                                        'CLUSTER_ID','PER_TS_YIELD',\n",
    "                                        RandomForestRegressor(random_state=42),\n",
    "                                        features=features)"
   ]
  },
  {
   "cell_type": "code",
   "execution_count": 65,
   "metadata": {},
   "outputs": [
    {
     "output_type": "stream",
     "name": "stdout",
     "text": [
      "{0: (2.628998144319603e+16, 27.786231701629692, 2712.8494544427967, 0.5328980131660274), 6: (0.45442635223657124, 52.25236758396752, 8367.601654580638, -0.48433007298095787), 4: (4.411904340429865e+16, 25.905848051267174, 2557.7726250933206, 0.5533857588366069), 5: (0.4591950810508664, 53.61316377887385, 8657.902484738175, -0.4969924521310036), 8: (8.05120991721603e+16, 64.75253363698896, 9054.365573525314, -0.6941721311281099), 9: (1.0589652216885698e+17, 58.90866803746859, 5879.36791660955, -0.07113558897316752), 2: (3.5311324033680916e+16, 22.57945297847288, 2520.8058891124747, 0.5317340523797776), 7: (0.45740623013350284, 52.30514939605849, 8251.632549268912, -0.4959981726988576), 3: (2.9155413867814176e+16, 21.54439928425358, 2218.816587772368, 0.6259230248165947), 1: (3.9391924568561784e+16, 23.50990804546393, 2595.1806073154034, 0.5060402576430512)}\n"
     ]
    }
   ],
   "source": [
    "print(metrics)"
   ]
  },
  {
   "source": [
    "<h2> Even one model for each cluster is not giving good accuracy, will have to move onto something else </h2>"
   ],
   "cell_type": "markdown",
   "metadata": {}
  },
  {
   "source": [
    "<h1> Experiment 9 </h1>"
   ],
   "cell_type": "markdown",
   "metadata": {}
  },
  {
   "source": [
    "<h2> Trying to find optimal lag while making a model at a plant level </h2>"
   ],
   "cell_type": "markdown",
   "metadata": {}
  },
  {
   "cell_type": "code",
   "execution_count": 69,
   "metadata": {},
   "outputs": [
    {
     "output_type": "stream",
     "name": "stdout",
     "text": [
      "Doing for lag:  192\n",
      "Modelling for panel: 4136001.0\n",
      "0.6262299972358314\n",
      "Doing for lag:  184\n",
      "Modelling for panel: 4136001.0\n",
      "0.5744545527198623\n",
      "Doing for lag:  176\n",
      "Modelling for panel: 4136001.0\n",
      "0.5447193459943611\n",
      "Doing for lag:  168\n",
      "Modelling for panel: 4136001.0\n",
      "0.5264043339349596\n",
      "Doing for lag:  160\n",
      "Modelling for panel: 4136001.0\n",
      "0.5860152989568388\n",
      "Doing for lag:  152\n",
      "Modelling for panel: 4136001.0\n",
      "0.5591530025298104\n",
      "Doing for lag:  144\n",
      "Modelling for panel: 4136001.0\n",
      "0.5794610540418403\n",
      "Doing for lag:  136\n",
      "Modelling for panel: 4136001.0\n",
      "0.5553368176870389\n",
      "Doing for lag:  128\n",
      "Modelling for panel: 4136001.0\n",
      "0.5779158006118967\n",
      "Doing for lag:  120\n",
      "Modelling for panel: 4136001.0\n",
      "0.5940232154046461\n",
      "Doing for lag:  112\n",
      "Modelling for panel: 4136001.0\n",
      "0.6125081135367787\n",
      "Doing for lag:  104\n",
      "Modelling for panel: 4136001.0\n",
      "0.5797327665302299\n",
      "Doing for lag:  96\n",
      "Modelling for panel: 4136001.0\n",
      "0.5972764717112247\n",
      "Doing for lag:  88\n",
      "Modelling for panel: 4136001.0\n",
      "0.589873379926956\n",
      "Doing for lag:  80\n",
      "Modelling for panel: 4136001.0\n",
      "0.5946057701336476\n",
      "Doing for lag:  72\n",
      "Modelling for panel: 4136001.0\n",
      "0.5943098494280881\n",
      "Doing for lag:  64\n",
      "Modelling for panel: 4136001.0\n",
      "0.5738888567200353\n",
      "Doing for lag:  56\n",
      "Modelling for panel: 4136001.0\n",
      "0.5376131222177214\n",
      "Doing for lag:  48\n",
      "Modelling for panel: 4136001.0\n",
      "0.5684004236404123\n",
      "Doing for lag:  40\n",
      "Modelling for panel: 4136001.0\n",
      "0.6262339091741226\n",
      "Doing for lag:  32\n",
      "Modelling for panel: 4136001.0\n",
      "0.5890178398739175\n",
      "Doing for lag:  24\n",
      "Modelling for panel: 4136001.0\n",
      "0.5762298755424744\n",
      "Doing for lag:  16\n",
      "Modelling for panel: 4136001.0\n",
      "0.6097957691965001\n",
      "Doing for lag:  8\n",
      "Modelling for panel: 4136001.0\n",
      "0.6485000216178565\n"
     ]
    }
   ],
   "source": [
    "train_ads_exp = train_ads.loc[train_ads['PLANT_ID']==4136001.0].reset_index(drop=True)\n",
    "test_ads_exp = test_ads.loc[test_ads['PLANT_ID']==4136001.0].reset_index(drop=True)\n",
    "\n",
    "_,metrics = get_optimal_lag(train_ads_exp,192,0.8,'isolated','PLANT_ID',RandomForestRegressor(random_state=42))\n"
   ]
  },
  {
   "source": [
    "<h2> No luck with different lags when modelling for the entire panel as well </h2>"
   ],
   "cell_type": "markdown",
   "metadata": {}
  },
  {
   "source": [
    "<h1> Experiment 10 </h1>"
   ],
   "cell_type": "markdown",
   "metadata": {}
  },
  {
   "source": [
    "<h2> Removing the noise from the data in which we no AC power even when the Irradiation is non zero </h2>"
   ],
   "cell_type": "markdown",
   "metadata": {}
  },
  {
   "cell_type": "code",
   "execution_count": 74,
   "metadata": {},
   "outputs": [
    {
     "output_type": "stream",
     "name": "stdout",
     "text": [
      "Modelling for panel: 4135001.0\n",
      "Modelling for panel: 4136001.0\n"
     ]
    }
   ],
   "source": [
    "    train_ads_exp = remove_anomaly(train_ads)\n",
    "    test_ads_exp = remove_anomaly(test_ads)\n",
    "\n",
    "    train_ads_exp = complt_ts_panel_lvl(train_ads_exp,'INVERTER_ID','DATE')\n",
    "    test_ads_exp = complt_ts_panel_lvl(test_ads_exp,'INVERTER_ID','DATE')\n",
    "\n",
    "    train_ads_exp = feat_engg.create_lagged_features(train_ads_exp,TIME_VARIANT_ATTR,[192],'INVERTER_ID','DATE')\n",
    "    test_ads_exp = feat_engg.create_lagged_features(test_ads_exp, TIME_VARIANT_ATTR, [192], 'INVERTER_ID','DATE')\n",
    "\n",
    "    features = [feature + '_lag_192' for feature in TIME_VARIANT_ATTR]\n",
    "    features = features + TIME_INVARIANT_ATTR + ['TIME_OF_DAY']\n",
    "    \n",
    "    models,metrics = regr.panel_wise_model(train_ads_exp,test_ads_exp,\n",
    "                                        'PLANT_ID','PER_TS_YIELD',\n",
    "                                        RandomForestRegressor(random_state=42),\n",
    "                                        features=features)"
   ]
  },
  {
   "cell_type": "code",
   "execution_count": 75,
   "metadata": {},
   "outputs": [
    {
     "output_type": "execute_result",
     "data": {
      "text/plain": [
       "{4135001.0: (89748041563183.84,\n",
       "  9.092884662248307,\n",
       "  330.3089217584814,\n",
       "  0.9617233009728813),\n",
       " 4136001.0: (5543222780623540.0,\n",
       "  14.91597963612078,\n",
       "  1151.247352927607,\n",
       "  0.802378953867604)}"
      ]
     },
     "metadata": {},
     "execution_count": 75
    }
   ],
   "source": [
    "metrics"
   ]
  },
  {
   "source": [
    "<h2> With this denoised dataset, our random forest model finally comes good and we get 80% + accuracy on both the data sets </h2>"
   ],
   "cell_type": "markdown",
   "metadata": {}
  },
  {
   "source": [
    "<h2> Plotting Actuals vs Predicted for a panel from plant 4135001 </h2>"
   ],
   "cell_type": "markdown",
   "metadata": {}
  },
  {
   "cell_type": "code",
   "execution_count": 88,
   "metadata": {},
   "outputs": [
    {
     "output_type": "display_data",
     "data": {
      "image/svg+xml": "<svg class=\"main-svg\" xmlns=\"http://www.w3.org/2000/svg\" xmlns:xlink=\"http://www.w3.org/1999/xlink\" width=\"700\" height=\"450\" style=\"\" viewBox=\"0 0 700 450\"><rect x=\"0\" y=\"0\" width=\"700\" height=\"450\" style=\"fill: rgb(255, 255, 255); fill-opacity: 1;\"/><defs id=\"defs-bd7293\"><g class=\"clips\"><clipPath id=\"clipbd7293xyplot\" class=\"plotclip\"><rect width=\"497\" height=\"310\"/></clipPath><clipPath class=\"axesclip\" id=\"clipbd7293x\"><rect x=\"80\" y=\"0\" width=\"497\" height=\"450\"/></clipPath><clipPath class=\"axesclip\" id=\"clipbd7293y\"><rect x=\"0\" y=\"60\" width=\"700\" height=\"310\"/></clipPath><clipPath class=\"axesclip\" id=\"clipbd7293xy\"><rect x=\"80\" y=\"60\" width=\"497\" height=\"310\"/></clipPath></g><g class=\"gradients\"/></defs><g class=\"bglayer\"><rect class=\"bg\" x=\"80\" y=\"60\" width=\"497\" height=\"310\" style=\"fill: rgb(229, 236, 246); fill-opacity: 1; stroke-width: 0;\"/></g><g class=\"layer-below\"><g class=\"imagelayer\"/><g class=\"shapelayer\"/></g><g class=\"cartesianlayer\"><g class=\"subplot xy\"><g class=\"layer-subplot\"><g class=\"shapelayer\"/><g class=\"imagelayer\"/></g><g class=\"gridlayer\"><g class=\"x\"><path class=\"xgrid crisp\" transform=\"translate(143.4,0)\" d=\"M0,60v310\" style=\"stroke: rgb(255, 255, 255); stroke-opacity: 1; stroke-width: 1px;\"/><path class=\"xgrid crisp\" transform=\"translate(252.08,0)\" d=\"M0,60v310\" style=\"stroke: rgb(255, 255, 255); stroke-opacity: 1; stroke-width: 1px;\"/><path class=\"xgrid crisp\" transform=\"translate(360.77,0)\" d=\"M0,60v310\" style=\"stroke: rgb(255, 255, 255); stroke-opacity: 1; stroke-width: 1px;\"/><path class=\"xgrid crisp\" transform=\"translate(469.45,0)\" d=\"M0,60v310\" style=\"stroke: rgb(255, 255, 255); stroke-opacity: 1; stroke-width: 1px;\"/></g><g class=\"y\"><path class=\"ygrid crisp\" transform=\"translate(0,308.08000000000004)\" d=\"M80,0h497\" style=\"stroke: rgb(255, 255, 255); stroke-opacity: 1; stroke-width: 1px;\"/><path class=\"ygrid crisp\" transform=\"translate(0,261.66999999999996)\" d=\"M80,0h497\" style=\"stroke: rgb(255, 255, 255); stroke-opacity: 1; stroke-width: 1px;\"/><path class=\"ygrid crisp\" transform=\"translate(0,215.25)\" d=\"M80,0h497\" style=\"stroke: rgb(255, 255, 255); stroke-opacity: 1; stroke-width: 1px;\"/><path class=\"ygrid crisp\" transform=\"translate(0,168.82999999999998)\" d=\"M80,0h497\" style=\"stroke: rgb(255, 255, 255); stroke-opacity: 1; stroke-width: 1px;\"/><path class=\"ygrid crisp\" transform=\"translate(0,122.41)\" d=\"M80,0h497\" style=\"stroke: rgb(255, 255, 255); stroke-opacity: 1; stroke-width: 1px;\"/><path class=\"ygrid crisp\" transform=\"translate(0,76)\" d=\"M80,0h497\" style=\"stroke: rgb(255, 255, 255); stroke-opacity: 1; stroke-width: 1px;\"/></g></g><g class=\"zerolinelayer\"><path class=\"yzl zl crisp\" transform=\"translate(0,354.5)\" d=\"M80,0h497\" style=\"stroke: rgb(255, 255, 255); stroke-opacity: 1; stroke-width: 2px;\"/></g><path class=\"xlines-below\"/><path class=\"ylines-below\"/><g class=\"overlines-below\"/><g class=\"xaxislayer-below\"/><g class=\"yaxislayer-below\"/><g class=\"overaxes-below\"/><g class=\"plot\" transform=\"translate(80,60)\" clip-path=\"url('#clipbd7293xyplot')\"/><g class=\"overplot\"/><path class=\"xlines-above crisp\" style=\"fill: none;\" d=\"M0,0\"/><path class=\"ylines-above crisp\" style=\"fill: none;\" d=\"M0,0\"/><g class=\"overlines-above\"/><g class=\"xaxislayer-above\"><g class=\"xtick\"><text text-anchor=\"middle\" x=\"0\" y=\"383\" transform=\"translate(143.4,0)\" style=\"font-family: 'Open Sans', verdana, arial, sans-serif; font-size: 12px; fill: rgb(42, 63, 95); fill-opacity: 1; white-space: pre;\"><tspan class=\"line\" dy=\"0em\" x=\"0\" y=\"383\">Jun 14</tspan><tspan class=\"line\" dy=\"1.3em\" x=\"0\" y=\"383\">2020</tspan></text></g><g class=\"xtick\"><text text-anchor=\"middle\" x=\"0\" y=\"383\" transform=\"translate(252.08,0)\" style=\"font-family: 'Open Sans', verdana, arial, sans-serif; font-size: 12px; fill: rgb(42, 63, 95); fill-opacity: 1; white-space: pre;\">Jun 15</text></g><g class=\"xtick\"><text text-anchor=\"middle\" x=\"0\" y=\"383\" transform=\"translate(360.77,0)\" style=\"font-family: 'Open Sans', verdana, arial, sans-serif; font-size: 12px; fill: rgb(42, 63, 95); fill-opacity: 1; white-space: pre;\">Jun 16</text></g><g class=\"xtick\"><text text-anchor=\"middle\" x=\"0\" y=\"383\" transform=\"translate(469.45,0)\" style=\"font-family: 'Open Sans', verdana, arial, sans-serif; font-size: 12px; fill: rgb(42, 63, 95); fill-opacity: 1; white-space: pre;\">Jun 17</text></g></g><g class=\"yaxislayer-above\"><g class=\"ytick\"><text text-anchor=\"end\" x=\"79\" y=\"4.199999999999999\" transform=\"translate(0,354.5)\" style=\"font-family: 'Open Sans', verdana, arial, sans-serif; font-size: 12px; fill: rgb(42, 63, 95); fill-opacity: 1; white-space: pre;\">0</text></g><g class=\"ytick\"><text text-anchor=\"end\" x=\"79\" y=\"4.199999999999999\" transform=\"translate(0,308.08000000000004)\" style=\"font-family: 'Open Sans', verdana, arial, sans-serif; font-size: 12px; fill: rgb(42, 63, 95); fill-opacity: 1; white-space: pre;\">50</text></g><g class=\"ytick\"><text text-anchor=\"end\" x=\"79\" y=\"4.199999999999999\" transform=\"translate(0,261.66999999999996)\" style=\"font-family: 'Open Sans', verdana, arial, sans-serif; font-size: 12px; fill: rgb(42, 63, 95); fill-opacity: 1; white-space: pre;\">100</text></g><g class=\"ytick\"><text text-anchor=\"end\" x=\"79\" y=\"4.199999999999999\" transform=\"translate(0,215.25)\" style=\"font-family: 'Open Sans', verdana, arial, sans-serif; font-size: 12px; fill: rgb(42, 63, 95); fill-opacity: 1; white-space: pre;\">150</text></g><g class=\"ytick\"><text text-anchor=\"end\" x=\"79\" y=\"4.199999999999999\" transform=\"translate(0,168.82999999999998)\" style=\"font-family: 'Open Sans', verdana, arial, sans-serif; font-size: 12px; fill: rgb(42, 63, 95); fill-opacity: 1; white-space: pre;\">200</text></g><g class=\"ytick\"><text text-anchor=\"end\" x=\"79\" y=\"4.199999999999999\" transform=\"translate(0,122.41)\" style=\"font-family: 'Open Sans', verdana, arial, sans-serif; font-size: 12px; fill: rgb(42, 63, 95); fill-opacity: 1; white-space: pre;\">250</text></g><g class=\"ytick\"><text text-anchor=\"end\" x=\"79\" y=\"4.199999999999999\" transform=\"translate(0,76)\" style=\"font-family: 'Open Sans', verdana, arial, sans-serif; font-size: 12px; fill: rgb(42, 63, 95); fill-opacity: 1; white-space: pre;\">300</text></g></g><g class=\"overaxes-above\"/></g></g><g class=\"polarlayer\"/><g class=\"ternarylayer\"/><g class=\"geolayer\"/><g class=\"funnelarealayer\"/><g class=\"pielayer\"/><g class=\"treemaplayer\"/><g class=\"sunburstlayer\"/><g class=\"glimages\"><image xmlns=\"http://www.w3.org/2000/svg\" xlink:href=\"data:image/png;base64,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\" preserveAspectRatio=\"none\" x=\"0\" y=\"0\" width=\"700\" height=\"450\"/><image xmlns=\"http://www.w3.org/2000/svg\" xlink:href=\"data:image/png;base64,iVBORw0KGgoAAAANSUhEUgAAArwAAAHCCAYAAAANehpvAAAZCUlEQVR4Xu3WQREAAAgCQelf2h43awMWH+wcAQIECBAgQIAAgbDAwtlEI0CAAAECBAgQIHAGrycgQIAAAQIECBBICxi86XqFI0CAAAECBAgQMHj9AAECBAgQIECAQFrA4E3XKxwBAgQIECBAgIDB6wcIECBAgAABAgTSAgZvul7hCBAgQIAAAQIEDF4/QIAAAQIECBAgkBYweNP1CkeAAAECBAgQIGDw+gECBAgQIECAAIG0gMGbrlc4AgQIECBAgAABg9cPECBAgAABAgQIpAUM3nS9whEgQIAAAQIECBi8foAAAQIECBAgQCAtYPCm6xWOAAECBAgQIEDA4PUDBAgQIECAAAECaQGDN12vcAQIECBAgAABAgavHyBAgAABAgQIEEgLGLzpeoUjQIAAAQIECBAweP0AAQIECBAgQIBAWsDgTdcrHAECBAgQIECAgMHrBwgQIECAAAECBNICBm+6XuEIECBAgAABAgQMXj9AgAABAgQIECCQFjB40/UKR4AAAQIECBAgYPD6AQIECBAgQIAAgbSAwZuuVzgCBAgQIECAAAGD1w8QIECAAAECBAikBQzedL3CESBAgAABAgQIGLx+gAABAgQIECBAIC1g8KbrFY4AAQIECBAgQMDg9QMECBAgQIAAAQJpAYM3Xa9wBAgQIECAAAECBq8fIECAAAECBAgQSAsYvOl6hSNAgAABAgQIEDB4/QABAgQIECBAgEBawOBN1yscAQIECBAgQICAwesHCBAgQIAAAQIE0gIGb7pe4QgQIECAAAECBAxeP0CAAAECBAgQIJAWMHjT9QpHgAABAgQIECBg8PoBAgQIECBAgACBtIDBm65XOAIECBAgQIAAAYPXDxAgQIAAAQIECKQFDN50vcIRIECAAAECBAgYvH6AAAECBAgQIEAgLWDwpusVjgABAgQIECBAwOD1AwQIECBAgAABAmkBgzddr3AECBAgQIAAAQIGrx8gQIAAAQIECBBICxi86XqFI0CAAAECBAgQMHj9AAECBAgQIECAQFrA4E3XKxwBAgQIECBAgIDB6wcIECBAgAABAgTSAgZvul7hCBAgQIAAAQIEDF4/QIAAAQIECBAgkBYweNP1CkeAAAECBAgQIGDw+gECBAgQIECAAIG0gMGbrlc4AgQIECBAgAABg9cPECBAgAABAgQIpAUM3nS9whEgQIAAAQIECBi8foAAAQIECBAgQCAtYPCm6xWOAAECBAgQIEDA4PUDBAgQIECAAAECaQGDN12vcAQIECBAgAABAgavHyBAgAABAgQIEEgLGLzpeoUjQIAAAQIECBAweP0AAQIECBAgQIBAWsDgTdcrHAECBAgQIECAgMHrBwgQIECAAAECBNICBm+6XuEIECBAgAABAgQMXj9AgAABAgQIECCQFjB40/UKR4AAAQIECBAgYPD6AQIECBAgQIAAgbSAwZuuVzgCBAgQIECAAAGD1w8QIECAAAECBAikBQzedL3CESBAgAABAgQIGLx+gAABAgQIECBAIC1g8KbrFY4AAQIECBAgQMDg9QMECBAgQIAAAQJpAYM3Xa9wBAgQIECAAAECBq8fIECAAAECBAgQSAsYvOl6hSNAgAABAgQIEDB4/QABAgQIECBAgEBawOBN1yscAQIECBAgQICAwesHCBAgQIAAAQIE0gIGb7pe4QgQIECAAAECBAxeP0CAAAECBAgQIJAWMHjT9QpHgAABAgQIECBg8PoBAgQIECBAgACBtIDBm65XOAIECBAgQIAAAYPXDxAgQIAAAQIECKQFDN50vcIRIECAAAECBAgYvH6AAAECBAgQIEAgLWDwpusVjgABAgQIECBAwOD1AwQIECBAgAABAmkBgzddr3AECBAgQIAAAQIGrx8gQIAAAQIECBBICxi86XqFI0CAAAECBAgQMHj9AAECBAgQIECAQFrA4E3XKxwBAgQIECBAgIDB6wcIECBAgAABAgTSAgZvul7hCBAgQIAAAQIEDF4/QIAAAQIECBAgkBYweNP1CkeAAAECBAgQIGDw+gECBAgQIECAAIG0gMGbrlc4AgQIECBAgAABg9cPECBAgAABAgQIpAUM3nS9whEgQIAAAQIECBi8foAAAQIECBAgQCAtYPCm6xWOAAECBAgQIEDA4PUDBAgQIECAAAECaQGDN12vcAQIECBAgAABAgavHyBAgAABAgQIEEgLGLzpeoUjQIAAAQIECBAweP0AAQIECBAgQIBAWsDgTdcrHAECBAgQIECAgMHrBwgQIECAAAECBNICBm+6XuEIECBAgAABAgQMXj9AgAABAgQIECCQFjB40/UKR4AAAQIECBAgYPD6AQIECBAgQIAAgbSAwZuuVzgCBAgQIECAAAGD1w8QIECAAAECBAikBQzedL3CESBAgAABAgQIGLx+gAABAgQIECBAIC1g8KbrFY4AAQIECBAgQMDg9QMECBAgQIAAAQJpAYM3Xa9wBAgQIECAAAECBq8fIECAAAECBAgQSAsYvOl6hSNAgAABAgQIEDB4/QABAgQIECBAgEBawOBN1yscAQIECBAgQICAwesHCBAgQIAAAQIE0gIGb7pe4QgQIECAAAECBAxeP0CAAAECBAgQIJAWMHjT9QpHgAABAgQIECBg8PoBAgQIECBAgACBtIDBm65XOAIECBAgQIAAAYPXDxAgQIAAAQIECKQFDN50vcIRIECAAAECBAgYvH6AAAECBAgQIEAgLWDwpusVjgABAgQIECBAwOD1AwQIECBAgAABAmkBgzddr3AECBAgQIAAAQIGrx8gQIAAAQIECBBICxi86XqFI0CAAAECBAgQMHj9AAECBAgQIECAQFrA4E3XKxwBAgQIECBAgIDB6wcIECBAgAABAgTSAgZvul7hCBAgQIAAAQIEDF4/QIAAAQIECBAgkBYweNP1CkeAAAECBAgQIGDw+gECBAgQIECAAIG0gMGbrlc4AgQIECBAgAABg9cPECBAgAABAgQIpAUM3nS9whEgQIAAAQIECBi8foAAAQIECBAgQCAtYPCm6xWOAAECBAgQIEDA4PUDBAgQIECAAAECaQGDN12vcAQIECBAgAABAgavHyBAgAABAgQIEEgLGLzpeoUjQIAAAQIECBAweP0AAQIECBAgQIBAWsDgTdcrHAECBAgQIECAgMHrBwgQIECAAAECBNICBm+6XuEIECBAgAABAgQMXj9AgAABAgQIECCQFjB40/UKR4AAAQIECBAgYPD6AQIECBAgQIAAgbSAwZuuVzgCBAgQIECAAAGD1w8QIECAAAECBAikBQzedL3CESBAgAABAgQIGLx+gAABAgQIECBAIC1g8KbrFY4AAQIECBAgQMDg9QMECBAgQIAAAQJpAYM3Xa9wBAgQIECAAAECBq8fIECAAAECBAgQSAsYvOl6hSNAgAABAgQIEDB4/QABAgQIECBAgEBawOBN1yscAQIECBAgQICAwesHCBAgQIAAAQIE0gIGb7pe4QgQIECAAAECBAxeP0CAAAECBAgQIJAWMHjT9QpHgAABAgQIECBg8PoBAgQIECBAgACBtIDBm65XOAIECBAgQIAAAYPXDxAgQIAAAQIECKQFDN50vcIRIECAAAECBAgYvH6AAAECBAgQIEAgLWDwpusVjgABAgQIECBAwOD1AwQIECBAgAABAmkBgzddr3AECBAgQIAAAQIGrx8gQIAAAQIECBBICxi86XqFI0CAAAECBAgQMHj9AAECBAgQIECAQFrA4E3XKxwBAgQIECBAgIDB6wcIECBAgAABAgTSAgZvul7hCBAgQIAAAQIEDF4/QIAAAQIECBAgkBYweNP1CkeAAAECBAgQIGDw+gECBAgQIECAAIG0gMGbrlc4AgQIECBAgAABg9cPECBAgAABAgQIpAUM3nS9whEgQIAAAQIECBi8foAAAQIECBAgQCAtYPCm6xWOAAECBAgQIEDA4PUDBAgQIECAAAECaQGDN12vcAQIECBAgAABAgavHyBAgAABAgQIEEgLGLzpeoUjQIAAAQIECBAweP0AAQIECBAgQIBAWsDgTdcrHAECBAgQIECAgMHrBwgQIECAAAECBNICBm+6XuEIECBAgAABAgQMXj9AgAABAgQIECCQFjB40/UKR4AAAQIECBAgYPD6AQIECBAgQIAAgbSAwZuuVzgCBAgQIECAAAGD1w8QIECAAAECBAikBQzedL3CESBAgAABAgQIGLx+gAABAgQIECBAIC1g8KbrFY4AAQIECBAgQMDg9QMECBAgQIAAAQJpAYM3Xa9wBAgQIECAAAECBq8fIECAAAECBAgQSAsYvOl6hSNAgAABAgQIEDB4/QABAgQIECBAgEBawOBN1yscAQIECBAgQICAwesHCBAgQIAAAQIE0gIGb7pe4QgQIECAAAECBAxeP0CAAAECBAgQIJAWMHjT9QpHgAABAgQIECBg8PoBAgQIECBAgACBtIDBm65XOAIECBAgQIAAAYPXDxAgQIAAAQIECKQFDN50vcIRIECAAAECBAgYvH6AAAECBAgQIEAgLWDwpusVjgABAgQIECBAwOD1AwQIECBAgAABAmkBgzddr3AECBAgQIAAAQIGrx8gQIAAAQIECBBICxi86XqFI0CAAAECBAgQMHj9AAECBAgQIECAQFrA4E3XKxwBAgQIECBAgIDB6wcIECBAgAABAgTSAgZvul7hCBAgQIAAAQIEDF4/QIAAAQIECBAgkBYweNP1CkeAAAECBAgQIGDw+gECBAgQIECAAIG0gMGbrlc4AgQIECBAgAABg9cPECBAgAABAgQIpAUM3nS9whEgQIAAAQIECBi8foAAAQIECBAgQCAtYPCm6xWOAAECBAgQIEDA4PUDBAgQIECAAAECaQGDN12vcAQIECBAgAABAgavHyBAgAABAgQIEEgLGLzpeoUjQIAAAQIECBAweP0AAQIECBAgQIBAWsDgTdcrHAECBAgQIECAgMHrBwgQIECAAAECBNICBm+6XuEIECBAgAABAgQMXj9AgAABAgQIECCQFjB40/UKR4AAAQIECBAgYPD6AQIECBAgQIAAgbSAwZuuVzgCBAgQIECAAAGD1w8QIECAAAECBAikBQzedL3CESBAgAABAgQIGLx+gAABAgQIECBAIC1g8KbrFY4AAQIECBAgQMDg9QMECBAgQIAAAQJpAYM3Xa9wBAgQIECAAAECBq8fIECAAAECBAgQSAsYvOl6hSNAgAABAgQIEDB4/QABAgQIECBAgEBawOBN1yscAQIECBAgQICAwesHCBAgQIAAAQIE0gIGb7pe4QgQIECAAAECBAxeP0CAAAECBAgQIJAWMHjT9QpHgAABAgQIECBg8PoBAgQIECBAgACBtIDBm65XOAIECBAgQIAAAYPXDxAgQIAAAQIECKQFDN50vcIRIECAAAECBAgYvH6AAAECBAgQIEAgLWDwpusVjgABAgQIECBAwOD1AwQIECBAgAABAmkBgzddr3AECBAgQIAAAQIGrx8gQIAAAQIECBBICxi86XqFI0CAAAECBAgQMHj9AAECBAgQIECAQFrA4E3XKxwBAgQIECBAgIDB6wcIECBAgAABAgTSAgZvul7hCBAgQIAAAQIEDF4/QIAAAQIECBAgkBYweNP1CkeAAAECBAgQIGDw+gECBAgQIECAAIG0gMGbrlc4AgQIECBAgAABg9cPECBAgAABAgQIpAUM3nS9whEgQIAAAQIECBi8foAAAQIECBAgQCAtYPCm6xWOAAECBAgQIEDA4PUDBAgQIECAAAECaQGDN12vcAQIECBAgAABAgavHyBAgAABAgQIEEgLGLzpeoUjQIAAAQIECBAweP0AAQIECBAgQIBAWsDgTdcrHAECBAgQIECAgMHrBwgQIECAAAECBNICBm+6XuEIECBAgAABAgQMXj9AgAABAgQIECCQFjB40/UKR4AAAQIECBAgYPD6AQIECBAgQIAAgbSAwZuuVzgCBAgQIECAAAGD1w8QIECAAAECBAikBQzedL3CESBAgAABAgQIGLx+gAABAgQIECBAIC1g8KbrFY4AAQIECBAgQMDg9QMECBAgQIAAAQJpAYM3Xa9wBAgQIECAAAECBq8fIECAAAECBAgQSAsYvOl6hSNAgAABAgQIEDB4/QABAgQIECBAgEBawOBN1yscAQIECBAgQICAwesHCBAgQIAAAQIE0gIGb7pe4QgQIECAAAECBAxeP0CAAAECBAgQIJAWMHjT9QpHgAABAgQIECBg8PoBAgQIECBAgACBtIDBm65XOAIECBAgQIAAAYPXDxAgQIAAAQIECKQFDN50vcIRIECAAAECBAgYvH6AAAECBAgQIEAgLWDwpusVjgABAgQIECBAwOD1AwQIECBAgAABAmkBgzddr3AECBAgQIAAAQIGrx8gQIAAAQIECBBICxi86XqFI0CAAAECBAgQMHj9AAECBAgQIECAQFrA4E3XKxwBAgQIECBAgIDB6wcIECBAgAABAgTSAgZvul7hCBAgQIAAAQIEDF4/QIAAAQIECBAgkBYweNP1CkeAAAECBAgQIGDw+gECBAgQIECAAIG0gMGbrlc4AgQIECBAgAABg9cPECBAgAABAgQIpAUM3nS9whEgQIAAAQIECBi8foAAAQIECBAgQCAtYPCm6xWOAAECBAgQIEDA4PUDBAgQIECAAAECaQGDN12vcAQIECBAgAABAgavHyBAgAABAgQIEEgLGLzpeoUjQIAAAQIECBAweP0AAQIECBAgQIBAWsDgTdcrHAECBAgQIECAgMHrBwgQIECAAAECBNICBm+6XuEIECBAgAABAgQMXj9AgAABAgQIECCQFjB40/UKR4AAAQIECBAgYPD6AQIECBAgQIAAgbSAwZuuVzgCBAgQIECAAAGD1w8QIECAAAECBAikBQzedL3CESBAgAABAgQIGLx+gAABAgQIECBAIC1g8KbrFY4AAQIECBAgQMDg9QMECBAgQIAAAQJpAYM3Xa9wBAgQIECAAAECBq8fIECAAAECBAgQSAsYvOl6hSNAgAABAgQIEDB4/QABAgQIECBAgEBawOBN1yscAQIECBAgQICAwesHCBAgQIAAAQIE0gIGb7pe4QgQIECAAAECBAxeP0CAAAECBAgQIJAWMHjT9QpHgAABAgQIECBg8PoBAgQIECBAgACBtIDBm65XOAIECBAgQIAAAYPXDxAgQIAAAQIECKQFDN50vcIRIECAAAECBAgYvH6AAAECBAgQIEAgLWDwpusVjgABAgQIECBAwOD1AwQIECBAgAABAmkBgzddr3AECBAgQIAAAQIGrx8gQIAAAQIECBBICxi86XqFI0CAAAECBAgQMHj9AAECBAgQIECAQFrA4E3XKxwBAgQIECBAgIDB6wcIECBAgAABAgTSAgZvul7hCBAgQIAAAQIEDF4/QIAAAQIECBAgkBYweNP1CkeAAAECBAgQIGDw+gECBAgQIECAAIG0gMGbrlc4AgQIECBAgAABg9cPECBAgAABAgQIpAUM3nS9whEgQIAAAQIECBi8foAAAQIECBAgQCAtYPCm6xWOAAECBAgQIEDA4PUDBAgQIECAAAECaQGDN12vcAQIECBAgAABAgavHyBAgAABAgQIEEgLGLzpeoUjQIAAAQIECBAweP0AAQIECBAgQIBAWsDgTdcrHAECBAgQIECAgMHrBwgQIECAAAECBNICBm+6XuEIECBAgAABAgQMXj9AgAABAgQIECCQFjB40/UKR4AAAQIECBAgYPD6AQIECBAgQIAAgbSAwZuuVzgCBAgQIECAAAGD1w8QIECAAAECBAikBQzedL3CESBAgAABAgQIGLx+gAABAgQIECBAIC1g8KbrFY4AAQIECBAgQMDg9QMECBAgQIAAAQJpAYM3Xa9wBAgQIECAAAECBq8fIECAAAECBAgQSAsYvOl6hSNAgAABAgQIEDB4/QABAgQIECBAgEBawOBN1yscAQIECBAgQICAwesHCBAgQIAAAQIE0gIGb7pe4QgQIECAAAECBAxeP0CAAAECBAgQIJAWMHjT9QpHgAABAgQIECBg8PoBAgQIECBAgACBtIDBm65XOAIECBAgQIAAAYPXDxAgQIAAAQIECKQFDN50vcIRIECAAAECBAgYvH6AAAECBAgQIEAgLWDwpusVjgABAgQIECBAwOD1AwQIECBAgAABAmkBgzddr3AECBAgQIAAAQIGrx8gQIAAAQIECBBICxi86XqFI0CAAAECBAgQMHj9AAECBAgQIECAQFrA4E3XKxwBAgQIECBAgIDB6wcIECBAgAABAgTSAgZvul7hCBAgQIAAAQIEDF4/QIAAAQIECBAgkBYweNP1CkeAAAECBAgQIGDw+gECBAgQIECAAIG0gMGbrlc4AgQIECBAgAABg9cPECBAgAABAgQIpAUM3nS9whEgQIAAAQIECBi8foAAAQIECBAgQCAtYPCm6xWOAAECBAgQIEDA4PUDBAgQIECAAAECaQGDN12vcAQIECBAgAABAg9CIAHDn1PJLgAAAABJRU5ErkJggg==\" preserveAspectRatio=\"none\" x=\"0\" y=\"0\" width=\"700\" height=\"450\"/></g><defs id=\"topdefs-bd7293\"><g class=\"clips\"/><clipPath id=\"legendbd7293\"><rect width=\"101\" height=\"64\" x=\"0\" y=\"0\"/></clipPath></defs><g class=\"layer-above\"><g class=\"imagelayer\"/><g class=\"shapelayer\"/></g><g class=\"infolayer\"><g class=\"legend\" pointer-events=\"all\" transform=\"translate(586.94,60)\"><rect class=\"bg\" shape-rendering=\"crispEdges\" style=\"stroke: rgb(68, 68, 68); stroke-opacity: 1; fill: rgb(255, 255, 255); fill-opacity: 1; stroke-width: 0px;\" width=\"101\" height=\"64\" x=\"0\" y=\"0\"/><g class=\"scrollbox\" transform=\"\" clip-path=\"url('#legendbd7293')\"><text class=\"legendtitletext\" text-anchor=\"start\" x=\"2\" y=\"15.600000000000001\" style=\"font-family: 'Open Sans', verdana, arial, sans-serif; font-size: 12px; fill: rgb(42, 63, 95); fill-opacity: 1; white-space: pre;\">variable</text><g class=\"groups\" transform=\"\"><g class=\"traces\" transform=\"translate(0,30.1)\" style=\"opacity: 1;\"><text class=\"legendtext\" text-anchor=\"start\" x=\"40\" y=\"4.680000000000001\" style=\"font-family: 'Open Sans', verdana, arial, sans-serif; font-size: 12px; fill: rgb(42, 63, 95); fill-opacity: 1; white-space: pre;\">Actual</text><g class=\"layers\" style=\"opacity: 1;\"><g class=\"legendfill\"/><g class=\"legendlines\"><path class=\"js-line\" d=\"M5,0h30\" style=\"fill: none; stroke: rgb(99, 110, 250); stroke-opacity: 1; stroke-width: 2px;\"/></g><g class=\"legendsymbols\"><g class=\"legendpoints\"/></g></g><rect class=\"legendtoggle\" x=\"0\" y=\"-9.5\" width=\"95.890625\" height=\"19\" style=\"fill: rgb(0, 0, 0); fill-opacity: 0;\"/></g></g><g class=\"groups\" transform=\"\"><g class=\"traces\" transform=\"translate(0,49.1)\" style=\"opacity: 1;\"><text class=\"legendtext\" text-anchor=\"start\" x=\"40\" y=\"4.680000000000001\" style=\"font-family: 'Open Sans', verdana, arial, sans-serif; font-size: 12px; fill: rgb(42, 63, 95); fill-opacity: 1; white-space: pre;\">Predicted</text><g class=\"layers\" style=\"opacity: 1;\"><g class=\"legendfill\"/><g class=\"legendlines\"><path class=\"js-line\" d=\"M5,0h30\" style=\"fill: none; stroke: rgb(239, 85, 59); stroke-opacity: 1; stroke-width: 2px;\"/></g><g class=\"legendsymbols\"><g class=\"legendpoints\"/></g></g><rect class=\"legendtoggle\" x=\"0\" y=\"-9.5\" width=\"95.890625\" height=\"19\" style=\"fill: rgb(0, 0, 0); fill-opacity: 0;\"/></g></g></g><rect class=\"scrollbar\" rx=\"20\" ry=\"3\" width=\"0\" height=\"0\" style=\"fill: rgb(128, 139, 164); fill-opacity: 1;\" x=\"0\" y=\"0\"/></g><g class=\"g-gtitle\"/><g class=\"g-xtitle\"><text class=\"xtitle\" x=\"328.5\" y=\"425.909375\" text-anchor=\"middle\" style=\"font-family: 'Open Sans', verdana, arial, sans-serif; font-size: 14px; fill: rgb(42, 63, 95); opacity: 1; font-weight: normal; white-space: pre;\">DATE</text></g><g class=\"g-ytitle\"><text class=\"ytitle\" transform=\"rotate(-90,31.309375000000003,215)\" x=\"31.309375000000003\" y=\"215\" text-anchor=\"middle\" style=\"font-family: 'Open Sans', verdana, arial, sans-serif; font-size: 14px; fill: rgb(42, 63, 95); opacity: 1; font-weight: normal; white-space: pre;\">value</text></g></g></svg>"
     },
     "metadata": {}
    }
   ],
   "source": [
    "scaler = StandardScaler()\n",
    "scaler.fit(train_ads_exp.loc[train_ads_exp['PLANT_ID'] == 4135001,features])\n",
    "\n",
    "train_df_scaled = scaler.transform(train_ads_exp.loc[train_ads_exp['PLANT_ID'] == 4135001,features])\n",
    "test_df_scaled = scaler.transform(test_ads_exp.loc[test_ads_exp['PLANT_ID'] == 4135001, features])\n",
    "\n",
    "panel_idx = test_ads_exp.index[test_ads_exp['INVERTER_ID'] == '1BY6WEcLGh8j5v7']\n",
    "\n",
    "y_pred = models[4135001].predict(test_df_scaled[panel_idx])\n",
    "\n",
    "act_vs_fcst(test_ads_exp.loc[panel_idx,'PER_TS_YIELD'], y_pred, test_ads_exp.loc[panel_idx,'DATE'])"
   ]
  },
  {
   "source": [
    "<h2> As we can see the model is able to very well capture the variation present in the data </h2>"
   ],
   "cell_type": "markdown",
   "metadata": {}
  },
  {
   "source": [
    "<h2> Plotting Actuals vs Predicted for a panel from plant 4136001 </h2>"
   ],
   "cell_type": "markdown",
   "metadata": {}
  },
  {
   "cell_type": "code",
   "execution_count": 91,
   "metadata": {},
   "outputs": [
    {
     "output_type": "display_data",
     "data": {
      "image/svg+xml": "<svg class=\"main-svg\" xmlns=\"http://www.w3.org/2000/svg\" xmlns:xlink=\"http://www.w3.org/1999/xlink\" width=\"700\" height=\"450\" style=\"\" viewBox=\"0 0 700 450\"><rect x=\"0\" y=\"0\" width=\"700\" height=\"450\" style=\"fill: rgb(255, 255, 255); fill-opacity: 1;\"/><defs id=\"defs-282327\"><g class=\"clips\"><clipPath id=\"clip282327xyplot\" class=\"plotclip\"><rect width=\"497\" height=\"310\"/></clipPath><clipPath class=\"axesclip\" id=\"clip282327x\"><rect x=\"80\" y=\"0\" width=\"497\" height=\"450\"/></clipPath><clipPath class=\"axesclip\" id=\"clip282327y\"><rect x=\"0\" y=\"60\" width=\"700\" height=\"310\"/></clipPath><clipPath class=\"axesclip\" id=\"clip282327xy\"><rect x=\"80\" y=\"60\" width=\"497\" height=\"310\"/></clipPath></g><g class=\"gradients\"/></defs><g class=\"bglayer\"><rect class=\"bg\" x=\"80\" y=\"60\" width=\"497\" height=\"310\" style=\"fill: rgb(229, 236, 246); fill-opacity: 1; stroke-width: 0;\"/></g><g class=\"layer-below\"><g class=\"imagelayer\"/><g class=\"shapelayer\"/></g><g class=\"cartesianlayer\"><g class=\"subplot xy\"><g class=\"layer-subplot\"><g class=\"shapelayer\"/><g class=\"imagelayer\"/></g><g class=\"gridlayer\"><g class=\"x\"><path class=\"xgrid crisp\" transform=\"translate(150.2,0)\" d=\"M0,60v310\" style=\"stroke: rgb(255, 255, 255); stroke-opacity: 1; stroke-width: 1px;\"/><path class=\"xgrid crisp\" transform=\"translate(257.18,0)\" d=\"M0,60v310\" style=\"stroke: rgb(255, 255, 255); stroke-opacity: 1; stroke-width: 1px;\"/><path class=\"xgrid crisp\" transform=\"translate(364.16,0)\" d=\"M0,60v310\" style=\"stroke: rgb(255, 255, 255); stroke-opacity: 1; stroke-width: 1px;\"/><path class=\"xgrid crisp\" transform=\"translate(471.14,0)\" d=\"M0,60v310\" style=\"stroke: rgb(255, 255, 255); stroke-opacity: 1; stroke-width: 1px;\"/></g><g class=\"y\"><path class=\"ygrid crisp\" transform=\"translate(0,312.97)\" d=\"M80,0h497\" style=\"stroke: rgb(255, 255, 255); stroke-opacity: 1; stroke-width: 1px;\"/><path class=\"ygrid crisp\" transform=\"translate(0,271.44)\" d=\"M80,0h497\" style=\"stroke: rgb(255, 255, 255); stroke-opacity: 1; stroke-width: 1px;\"/><path class=\"ygrid crisp\" transform=\"translate(0,229.91)\" d=\"M80,0h497\" style=\"stroke: rgb(255, 255, 255); stroke-opacity: 1; stroke-width: 1px;\"/><path class=\"ygrid crisp\" transform=\"translate(0,188.38)\" d=\"M80,0h497\" style=\"stroke: rgb(255, 255, 255); stroke-opacity: 1; stroke-width: 1px;\"/><path class=\"ygrid crisp\" transform=\"translate(0,146.85)\" d=\"M80,0h497\" style=\"stroke: rgb(255, 255, 255); stroke-opacity: 1; stroke-width: 1px;\"/><path class=\"ygrid crisp\" transform=\"translate(0,105.32)\" d=\"M80,0h497\" style=\"stroke: rgb(255, 255, 255); stroke-opacity: 1; stroke-width: 1px;\"/><path class=\"ygrid crisp\" transform=\"translate(0,63.79)\" d=\"M80,0h497\" style=\"stroke: rgb(255, 255, 255); stroke-opacity: 1; stroke-width: 1px;\"/></g></g><g class=\"zerolinelayer\"><path class=\"yzl zl crisp\" transform=\"translate(0,354.5)\" d=\"M80,0h497\" style=\"stroke: rgb(255, 255, 255); stroke-opacity: 1; stroke-width: 2px;\"/></g><path class=\"xlines-below\"/><path class=\"ylines-below\"/><g class=\"overlines-below\"/><g class=\"xaxislayer-below\"/><g class=\"yaxislayer-below\"/><g class=\"overaxes-below\"/><g class=\"plot\" transform=\"translate(80,60)\" clip-path=\"url('#clip282327xyplot')\"/><g class=\"overplot\"/><path class=\"xlines-above crisp\" d=\"M0,0\" style=\"fill: none;\"/><path class=\"ylines-above crisp\" d=\"M0,0\" style=\"fill: none;\"/><g class=\"overlines-above\"/><g class=\"xaxislayer-above\"><g class=\"xtick\"><text text-anchor=\"middle\" x=\"0\" y=\"383\" transform=\"translate(150.2,0)\" style=\"font-family: 'Open Sans', verdana, arial, sans-serif; font-size: 12px; fill: rgb(42, 63, 95); fill-opacity: 1; white-space: pre;\"><tspan class=\"line\" dy=\"0em\" x=\"0\" y=\"383\">Jun 14</tspan><tspan class=\"line\" dy=\"1.3em\" x=\"0\" y=\"383\">2020</tspan></text></g><g class=\"xtick\"><text text-anchor=\"middle\" x=\"0\" y=\"383\" transform=\"translate(257.18,0)\" style=\"font-family: 'Open Sans', verdana, arial, sans-serif; font-size: 12px; fill: rgb(42, 63, 95); fill-opacity: 1; white-space: pre;\">Jun 15</text></g><g class=\"xtick\"><text text-anchor=\"middle\" x=\"0\" y=\"383\" transform=\"translate(364.16,0)\" style=\"font-family: 'Open Sans', verdana, arial, sans-serif; font-size: 12px; fill: rgb(42, 63, 95); fill-opacity: 1; white-space: pre;\">Jun 16</text></g><g class=\"xtick\"><text text-anchor=\"middle\" x=\"0\" y=\"383\" transform=\"translate(471.14,0)\" style=\"font-family: 'Open Sans', verdana, arial, sans-serif; font-size: 12px; fill: rgb(42, 63, 95); fill-opacity: 1; white-space: pre;\">Jun 17</text></g></g><g class=\"yaxislayer-above\"><g class=\"ytick\"><text text-anchor=\"end\" x=\"79\" y=\"4.199999999999999\" transform=\"translate(0,354.5)\" style=\"font-family: 'Open Sans', verdana, arial, sans-serif; font-size: 12px; fill: rgb(42, 63, 95); fill-opacity: 1; white-space: pre;\">0</text></g><g class=\"ytick\"><text text-anchor=\"end\" x=\"79\" y=\"4.199999999999999\" transform=\"translate(0,312.97)\" style=\"font-family: 'Open Sans', verdana, arial, sans-serif; font-size: 12px; fill: rgb(42, 63, 95); fill-opacity: 1; white-space: pre;\">50</text></g><g class=\"ytick\"><text text-anchor=\"end\" x=\"79\" y=\"4.199999999999999\" transform=\"translate(0,271.44)\" style=\"font-family: 'Open Sans', verdana, arial, sans-serif; font-size: 12px; fill: rgb(42, 63, 95); fill-opacity: 1; white-space: pre;\">100</text></g><g class=\"ytick\"><text text-anchor=\"end\" x=\"79\" y=\"4.199999999999999\" transform=\"translate(0,229.91)\" style=\"font-family: 'Open Sans', verdana, arial, sans-serif; font-size: 12px; fill: rgb(42, 63, 95); fill-opacity: 1; white-space: pre;\">150</text></g><g class=\"ytick\"><text text-anchor=\"end\" x=\"79\" y=\"4.199999999999999\" transform=\"translate(0,188.38)\" style=\"font-family: 'Open Sans', verdana, arial, sans-serif; font-size: 12px; fill: rgb(42, 63, 95); fill-opacity: 1; white-space: pre;\">200</text></g><g class=\"ytick\"><text text-anchor=\"end\" x=\"79\" y=\"4.199999999999999\" transform=\"translate(0,146.85)\" style=\"font-family: 'Open Sans', verdana, arial, sans-serif; font-size: 12px; fill: rgb(42, 63, 95); fill-opacity: 1; white-space: pre;\">250</text></g><g class=\"ytick\"><text text-anchor=\"end\" x=\"79\" y=\"4.199999999999999\" transform=\"translate(0,105.32)\" style=\"font-family: 'Open Sans', verdana, arial, sans-serif; font-size: 12px; fill: rgb(42, 63, 95); fill-opacity: 1; white-space: pre;\">300</text></g><g class=\"ytick\"><text text-anchor=\"end\" x=\"79\" y=\"4.199999999999999\" transform=\"translate(0,63.79)\" style=\"font-family: 'Open Sans', verdana, arial, sans-serif; font-size: 12px; fill: rgb(42, 63, 95); fill-opacity: 1; white-space: pre;\">350</text></g></g><g class=\"overaxes-above\"/></g></g><g class=\"polarlayer\"/><g class=\"ternarylayer\"/><g class=\"geolayer\"/><g class=\"funnelarealayer\"/><g class=\"pielayer\"/><g class=\"treemaplayer\"/><g class=\"sunburstlayer\"/><g class=\"glimages\"><image xmlns=\"http://www.w3.org/2000/svg\" xlink:href=\"data:image/png;base64,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\" preserveAspectRatio=\"none\" x=\"0\" y=\"0\" width=\"700\" height=\"450\"/><image xmlns=\"http://www.w3.org/2000/svg\" xlink:href=\"data:image/png;base64,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\" preserveAspectRatio=\"none\" x=\"0\" y=\"0\" width=\"700\" height=\"450\"/></g><defs id=\"topdefs-282327\"><g class=\"clips\"/><clipPath id=\"legend282327\"><rect width=\"101\" height=\"64\" x=\"0\" y=\"0\"/></clipPath></defs><g class=\"layer-above\"><g class=\"imagelayer\"/><g class=\"shapelayer\"/></g><g class=\"infolayer\"><g class=\"legend\" pointer-events=\"all\" transform=\"translate(586.94,60)\"><rect class=\"bg\" shape-rendering=\"crispEdges\" width=\"101\" height=\"64\" x=\"0\" y=\"0\" style=\"stroke: rgb(68, 68, 68); stroke-opacity: 1; fill: rgb(255, 255, 255); fill-opacity: 1; stroke-width: 0px;\"/><g class=\"scrollbox\" transform=\"\" clip-path=\"url('#legend282327')\"><text class=\"legendtitletext\" text-anchor=\"start\" x=\"2\" y=\"15.600000000000001\" style=\"font-family: 'Open Sans', verdana, arial, sans-serif; font-size: 12px; fill: rgb(42, 63, 95); fill-opacity: 1; white-space: pre;\">variable</text><g class=\"groups\" transform=\"\"><g class=\"traces\" transform=\"translate(0,30.1)\" style=\"opacity: 1;\"><text class=\"legendtext\" text-anchor=\"start\" x=\"40\" y=\"4.680000000000001\" style=\"font-family: 'Open Sans', verdana, arial, sans-serif; font-size: 12px; fill: rgb(42, 63, 95); fill-opacity: 1; white-space: pre;\">Actual</text><g class=\"layers\" style=\"opacity: 1;\"><g class=\"legendfill\"/><g class=\"legendlines\"><path class=\"js-line\" d=\"M5,0h30\" style=\"fill: none; stroke: rgb(99, 110, 250); stroke-opacity: 1; stroke-width: 2px;\"/></g><g class=\"legendsymbols\"><g class=\"legendpoints\"/></g></g><rect class=\"legendtoggle\" x=\"0\" y=\"-9.5\" width=\"95.890625\" height=\"19\" style=\"fill: rgb(0, 0, 0); fill-opacity: 0;\"/></g></g><g class=\"groups\" transform=\"\"><g class=\"traces\" transform=\"translate(0,49.1)\" style=\"opacity: 1;\"><text class=\"legendtext\" text-anchor=\"start\" x=\"40\" y=\"4.680000000000001\" style=\"font-family: 'Open Sans', verdana, arial, sans-serif; font-size: 12px; fill: rgb(42, 63, 95); fill-opacity: 1; white-space: pre;\">Predicted</text><g class=\"layers\" style=\"opacity: 1;\"><g class=\"legendfill\"/><g class=\"legendlines\"><path class=\"js-line\" d=\"M5,0h30\" style=\"fill: none; stroke: rgb(239, 85, 59); stroke-opacity: 1; stroke-width: 2px;\"/></g><g class=\"legendsymbols\"><g class=\"legendpoints\"/></g></g><rect class=\"legendtoggle\" x=\"0\" y=\"-9.5\" width=\"95.890625\" height=\"19\" style=\"fill: rgb(0, 0, 0); fill-opacity: 0;\"/></g></g></g><rect class=\"scrollbar\" rx=\"20\" ry=\"3\" width=\"0\" height=\"0\" x=\"0\" y=\"0\" style=\"fill: rgb(128, 139, 164); fill-opacity: 1;\"/></g><g class=\"g-gtitle\"/><g class=\"g-xtitle\"><text class=\"xtitle\" x=\"328.5\" y=\"425.909375\" text-anchor=\"middle\" style=\"font-family: 'Open Sans', verdana, arial, sans-serif; font-size: 14px; fill: rgb(42, 63, 95); opacity: 1; font-weight: normal; white-space: pre;\">DATE</text></g><g class=\"g-ytitle\"><text class=\"ytitle\" transform=\"rotate(-90,31.309375000000003,215)\" x=\"31.309375000000003\" y=\"215\" text-anchor=\"middle\" style=\"font-family: 'Open Sans', verdana, arial, sans-serif; font-size: 14px; fill: rgb(42, 63, 95); opacity: 1; font-weight: normal; white-space: pre;\">value</text></g></g></svg>"
     },
     "metadata": {}
    }
   ],
   "source": [
    "scaler = StandardScaler()\n",
    "scaler.fit(train_ads_exp.loc[train_ads_exp['PLANT_ID'] == 4136001,features])\n",
    "\n",
    "train_df_scaled = scaler.transform(train_ads_exp.loc[train_ads_exp['PLANT_ID'] == 4136001,features])\n",
    "test_df_scaled = scaler.transform(test_ads_exp.loc[test_ads_exp['PLANT_ID'] == 4136001, features])\n",
    "\n",
    "panel_idx = test_ads_exp.index[test_ads_exp['INVERTER_ID'] == 'Qf4GUc1pJu5T6c6']\n",
    "\n",
    "y_pred = models[4136001].predict(test_df_scaled[panel_idx])\n",
    "\n",
    "act_vs_fcst(test_ads_exp.loc[panel_idx,'PER_TS_YIELD'], y_pred, test_ads_exp.loc[panel_idx,'DATE'])"
   ]
  },
  {
   "source": [
    "<h2> Here as well our model does well, but not quite as good as plant 1 model. We can try and squeze out more performance, but we will stop here for now </h2>"
   ],
   "cell_type": "markdown",
   "metadata": {}
  }
 ]
}