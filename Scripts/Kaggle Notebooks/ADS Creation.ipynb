{
 "metadata": {
  "language_info": {
   "codemirror_mode": {
    "name": "ipython",
    "version": 3
   },
   "file_extension": ".py",
   "mimetype": "text/x-python",
   "name": "python",
   "nbconvert_exporter": "python",
   "pygments_lexer": "ipython3",
   "version": "3.8.3-final"
  },
  "orig_nbformat": 2,
  "kernelspec": {
   "name": "python3",
   "display_name": "Python 3.8.3 64-bit ('base': conda)",
   "metadata": {
    "interpreter": {
     "hash": "d698636e78871910c1c7d94e3553c62ff936ca564a742ac62f445af3d8488fb7"
    }
   }
  }
 },
 "nbformat": 4,
 "nbformat_minor": 2,
 "cells": [
  {
   "cell_type": "code",
   "execution_count": 1,
   "metadata": {},
   "outputs": [],
   "source": [
    "#Importing libraries\n",
    "import pandas as pd\n",
    "import os\n",
    "from datetime import datetime\n",
    "import numpy as np"
   ]
  },
  {
   "cell_type": "code",
   "execution_count": 2,
   "metadata": {},
   "outputs": [],
   "source": [
    "#Importing constants used in the analysis\n",
    "os.chdir(r'/Users/mac_air/Documents/Documents/Side Projects/Kaggle_Anomaly_Detection/Scripts/')\n",
    "from constants import IDENTIFIERS\n"
   ]
  },
  {
   "source": [
    "<h1> Merging Data </h1>"
   ],
   "cell_type": "markdown",
   "metadata": {}
  },
  {
   "source": [
    "<h3> In this step, we are merging generation and weather data to make one ADS </h3>"
   ],
   "cell_type": "markdown",
   "metadata": {}
  },
  {
   "cell_type": "code",
   "execution_count": 5,
   "metadata": {},
   "outputs": [],
   "source": [
    "def merge_data(plant_name):\n",
    "    '''\n",
    "    This function creates the ads for a plant\n",
    "    Input:\n",
    "    1. plant_name: Takes in the plant name as specified in the csv files for both the plants\n",
    "\n",
    "    Return:\n",
    "    ads: Merged dataset of generation ads and sensor ads with their dates formatted properly\n",
    "    '''\n",
    "\n",
    "    #reading in the file\n",
    "    path = r'/Users/mac_air/Documents/Documents/Side Projects/Kaggle_Anomaly_Detection/'\n",
    "    gen_data = pd.read_csv(path + '/data/{}_Generation_Data.csv'.format(plant_name))\n",
    "    #formatting the date to date formate\n",
    "    gen_data['DATE_TIME'] = gen_data['DATE_TIME'].apply(lambda x: datetime.strptime(x, \"%d-%m-%Y %H:%M\"))\n",
    "    \n",
    "    sns_weather_data = pd.read_csv(path + '/data/{}_Weather_Sensor_Data.csv'.format(plant_name))\n",
    "    #formatting the date\n",
    "    sns_weather_data['DATE_TIME'] = sns_weather_data['DATE_TIME'].apply(lambda x: datetime.strptime(x, \"%Y-%m-%d %H:%M:%S\"))\n",
    "    \n",
    "    #below line has to be uncommented when I am doing the missing timestamp treatment\n",
    "    ads = pd.merge(gen_data, sns_weather_data, left_on=['DATE_TIME','PLANT_ID'], right_on=['DATE_TIME','PLANT_ID'],how='left')\n",
    "    ads.rename(columns = {'SOURCE_KEY_x':'INVERTER_ID', 'SOURCE_KEY_y':'PANEL_ID'}, inplace=True)\n",
    "    return ads\n"
   ]
  },
  {
   "source": [
    "<h1> Creating target variable </h1>"
   ],
   "cell_type": "markdown",
   "metadata": {}
  },
  {
   "source": [
    "<h3> In this step we are creating the target variable that is the amount of power generated per 15 min interval </h3>"
   ],
   "cell_type": "markdown",
   "metadata": {}
  },
  {
   "cell_type": "code",
   "execution_count": 8,
   "metadata": {},
   "outputs": [],
   "source": [
    "def create_daily_yield(df):\n",
    "    '''\n",
    "    This function creates per timestamp yield generated at the plant using total yield column\n",
    "\n",
    "    Input:\n",
    "    1. df: pandas dataframe with all the required columns\n",
    "\n",
    "    Return:\n",
    "    1. df: pandas dataframe with the per timestamp yield\n",
    "    '''\n",
    "    df['PER_TS_YIELD'] = np.nan\n",
    "    yield_df = df.groupby('INVERTER_ID')['TOTAL_YIELD'].agg(lambda x: list(x.diff())).to_frame().reset_index()\n",
    "\n",
    "    for inverter in df['INVERTER_ID'].unique():\n",
    "        df.loc[df['INVERTER_ID'] == inverter, 'PER_TS_YIELD'] = yield_df.loc[yield_df['INVERTER_ID'] == inverter,'TOTAL_YIELD'].values[0]\n",
    "\n",
    "    return df\n"
   ]
  },
  {
   "source": [
    "<h1> Feature Generation </h1>"
   ],
   "cell_type": "markdown",
   "metadata": {}
  },
  {
   "source": [
    "<h3> Creating some helping features </h3>"
   ],
   "cell_type": "markdown",
   "metadata": {}
  },
  {
   "cell_type": "code",
   "execution_count": 11,
   "metadata": {},
   "outputs": [],
   "source": [
    "def create_features(df):\n",
    "    '''\n",
    "    This function just calls the daily yield function as well as renames the date column\n",
    "    '''\n",
    "    #creating per timestamp yield\n",
    "    df = create_daily_yield(df)\n",
    "    df = df.rename(columns={'DATE_TIME':'DATE'})\n",
    "    #creating time of day flag\n",
    "    #night is 0, day is 1\n",
    "    df['TIME_OF_DAY'] = df['DATE'].apply(lambda x: 1 if x.hour in range(6,18) else 0)\n",
    "\n",
    "    return df\n"
   ]
  },
  {
   "source": [
    "<h1> Missing Value Treatment </h1>"
   ],
   "cell_type": "markdown",
   "metadata": {}
  },
  {
   "source": [
    "<h3> This is a very important step wherein we performed missing value treatment as well as undertook data cleaning </h3>\n",
    "<h3> We followed the below steps for MVT and data cleaning </h3>\n",
    "-----------------------------\n",
    "\n",
    "<h3> 1. Whenever it is night time i.e. 6pm to 6am then Irraditation (power from sun), AC Power, DC Power and Power generated per 15 min interval should be 0 </h3>\n",
    "<h3> 2. For missing values in  Daily Yield, Total Yield, Module Temperature, Ambient Temperature, the last value will be retained and we will use forward fill </h3>\n",
    "<h3> 3.  During Day time if Irradiation, AC Power, DC Power, Per TS Yield is missing then that will be imputed using average values for these fields </h3>"
   ],
   "cell_type": "markdown",
   "metadata": {}
  },
  {
   "cell_type": "code",
   "execution_count": 14,
   "metadata": {},
   "outputs": [],
   "source": [
    "def missing_value_treatment(df):\n",
    "    '''\n",
    "    Input:\n",
    "    1. df: pandas dataframe that is subsetted for one inverter ID only\n",
    "\n",
    "    Return:\n",
    "    1. df: input pandas dataframe + missing values treated through forward filling and imputation with 0\n",
    "    '''\n",
    "    #Forward filling all the identifier columns\n",
    "    df[IDENTIFIERS] = df[IDENTIFIERS].ffill()\n",
    "\n",
    "    #At night time, irradiation, ac & dc power are 0\n",
    "    night_idx = df.index[df['TIME_OF_DAY'] == 0].tolist()\n",
    "    df.at[night_idx,['IRRADIATION','DC_POWER','AC_POWER','PER_TS_YIELD']] = 0\n",
    "\n",
    "    #When there are no values, we assume that daily and total yield remains the same\n",
    "    df[['AMBIENT_TEMPERATURE','MODULE_TEMPERATURE','DAILY_YIELD','TOTAL_YIELD']] \\\n",
    "        = df[['AMBIENT_TEMPERATURE','MODULE_TEMPERATURE','DAILY_YIELD','TOTAL_YIELD']].ffill()\n",
    "\n",
    "    #all the incidents when irradiation & per time stamp yield is na\n",
    "    #this would now be only day time\n",
    "    na_idx = df.index[(np.isnan(df['IRRADIATION'])) | (np.isnan(df['PER_TS_YIELD'])) == True].tolist()\n",
    "\n",
    "    #replacing the na values with average\n",
    "    #Making the assumption that during day time irradiation can be the average amount \n",
    "    #consequently the power generated would also be average\n",
    "    for attribute in ['IRRADIATION','AC_POWER','DC_POWER','PER_TS_YIELD']:\n",
    "        df.at[na_idx,attribute] = df[attribute].mean()\n",
    "\n",
    "    return df\n"
   ]
  },
  {
   "source": [
    "<h1> Bringing it all together </h1>"
   ],
   "cell_type": "markdown",
   "metadata": {}
  },
  {
   "cell_type": "code",
   "execution_count": 16,
   "metadata": {},
   "outputs": [],
   "source": [
    "def create_ads():\n",
    "    '''\n",
    "    This is a wrapper function for all the other functions in this module to ease ads creation \n",
    "    in other modules\n",
    "    '''\n",
    "    #creating ads for plant 1 and plant 2\n",
    "    ads = pd.DataFrame()\n",
    "    #merging sensor and weather data\n",
    "    ads_plant_1 = merge_data('Plant_1')\n",
    "    ads_plant_2 = merge_data('Plant_2')\n",
    "    ads = pd.concat([ads_plant_1, ads_plant_2]).reset_index(drop=True)\n",
    "    #creating date and per time stamp yields\n",
    "    ads = create_features(ads)\n",
    "    #performing missing value treatment\n",
    "    ads = ads.groupby('INVERTER_ID').apply(lambda x: missing_value_treatment(x))\n",
    "    ads = ads.reset_index(drop=True)\n",
    "    return ads"
   ]
  }
 ]
}